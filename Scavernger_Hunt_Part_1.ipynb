{
 "cells": [
  {
   "cell_type": "markdown",
   "metadata": {},
   "source": [
    "This series of notebooks are my solutions to [Kaggle scavenger hunt SQL challenge]"
   ]
  },
  {
   "cell_type": "markdown",
   "metadata": {
    "_cell_guid": "fda0a223-5fd5-4524-a402-ecaef2905fa0",
    "_kg_hide-output": true,
    "_uuid": "654d2baeecb8757e10d02a63ec6cc63fe2df2339"
   },
   "source": [
    "# Scavenger hunt\n",
    "___\n",
    "\n",
    "Now it's your turn! Here's the questions I would like you to get the data to answer:\n",
    "\n",
    "* Which countries use a unit other than ppm to measure any type of pollution? (Hint: to get rows where the value *isn't* something, use \"!=\")\n",
    "* Which pollutants have a value of exactly 0?\n",
    "\n",
    "In order to answer these questions, you can fork this notebook by hitting the blue \"Fork Notebook\" at the very top of this page (you may have to scroll up).  \"Forking\" something is making a copy of it that you can edit on your own without changing the original."
   ]
  },
  {
   "cell_type": "code",
   "execution_count": 2,
   "metadata": {
    "_cell_guid": "a4f6aab8-ae9b-4123-87e9-94aadf6a757c",
    "_uuid": "c346ce030dd69d682f91756fc9185ae7845066fb",
    "collapsed": false
   },
   "outputs": [
    {
     "data": {
      "text/plain": [
       "['global_air_quality']"
      ]
     },
     "execution_count": 2,
     "metadata": {},
     "output_type": "execute_result"
    }
   ],
   "source": [
    "# My Solution\n",
    "import bq_helper\n",
    "open_aq = bq_helper.BigQueryHelper(active_project = \"bigquery-public-data\",\n",
    "                                  dataset_name = 'openaq')\n",
    "open_aq.list_tables()"
   ]
  },
  {
   "cell_type": "code",
   "execution_count": 3,
   "metadata": {
    "_cell_guid": "93deb252-8faf-439a-8e24-2de9ec6733b6",
    "_uuid": "93dc6356df1eef419e3d2ca78fc65247a5e397d8",
    "collapsed": false
   },
   "outputs": [
    {
     "data": {
      "text/html": [
       "<div>\n",
       "<style>\n",
       "    .dataframe thead tr:only-child th {\n",
       "        text-align: right;\n",
       "    }\n",
       "\n",
       "    .dataframe thead th {\n",
       "        text-align: left;\n",
       "    }\n",
       "\n",
       "    .dataframe tbody tr th {\n",
       "        vertical-align: top;\n",
       "    }\n",
       "</style>\n",
       "<table border=\"1\" class=\"dataframe\">\n",
       "  <thead>\n",
       "    <tr style=\"text-align: right;\">\n",
       "      <th></th>\n",
       "      <th>location</th>\n",
       "      <th>city</th>\n",
       "      <th>country</th>\n",
       "      <th>pollutant</th>\n",
       "      <th>value</th>\n",
       "      <th>timestamp</th>\n",
       "      <th>unit</th>\n",
       "      <th>source_name</th>\n",
       "      <th>latitude</th>\n",
       "      <th>longitude</th>\n",
       "      <th>averaged_over_in_hours</th>\n",
       "    </tr>\n",
       "  </thead>\n",
       "  <tbody>\n",
       "    <tr>\n",
       "      <th>0</th>\n",
       "      <td>Mobile_Cle Elum</td>\n",
       "      <td>037</td>\n",
       "      <td>US</td>\n",
       "      <td>pm25</td>\n",
       "      <td>0.00</td>\n",
       "      <td>2017-09-26 20:00:00+00:00</td>\n",
       "      <td>µg/m³</td>\n",
       "      <td>AirNow</td>\n",
       "      <td>47.197630</td>\n",
       "      <td>-120.958230</td>\n",
       "      <td>1.0</td>\n",
       "    </tr>\n",
       "    <tr>\n",
       "      <th>1</th>\n",
       "      <td>Mobile_WhiteSalmon</td>\n",
       "      <td>039</td>\n",
       "      <td>US</td>\n",
       "      <td>pm25</td>\n",
       "      <td>0.00</td>\n",
       "      <td>2017-09-26 20:00:00+00:00</td>\n",
       "      <td>µg/m³</td>\n",
       "      <td>AirNow</td>\n",
       "      <td>45.732414</td>\n",
       "      <td>-121.492330</td>\n",
       "      <td>1.0</td>\n",
       "    </tr>\n",
       "    <tr>\n",
       "      <th>2</th>\n",
       "      <td>Mobile_Newport</td>\n",
       "      <td>051</td>\n",
       "      <td>US</td>\n",
       "      <td>pm25</td>\n",
       "      <td>0.00</td>\n",
       "      <td>2017-09-21 18:00:00+00:00</td>\n",
       "      <td>µg/m³</td>\n",
       "      <td>AirNow</td>\n",
       "      <td>48.186485</td>\n",
       "      <td>-117.049160</td>\n",
       "      <td>1.0</td>\n",
       "    </tr>\n",
       "    <tr>\n",
       "      <th>3</th>\n",
       "      <td>FR20047</td>\n",
       "      <td>Ain</td>\n",
       "      <td>FR</td>\n",
       "      <td>no2</td>\n",
       "      <td>45.40</td>\n",
       "      <td>2018-02-13 07:00:00+00:00</td>\n",
       "      <td>µg/m³</td>\n",
       "      <td>EEA France</td>\n",
       "      <td>45.823223</td>\n",
       "      <td>4.953958</td>\n",
       "      <td>1.0</td>\n",
       "    </tr>\n",
       "    <tr>\n",
       "      <th>4</th>\n",
       "      <td>FR20047</td>\n",
       "      <td>Ain</td>\n",
       "      <td>FR</td>\n",
       "      <td>o3</td>\n",
       "      <td>2.13</td>\n",
       "      <td>2018-02-13 07:00:00+00:00</td>\n",
       "      <td>µg/m³</td>\n",
       "      <td>EEA France</td>\n",
       "      <td>45.823223</td>\n",
       "      <td>4.953958</td>\n",
       "      <td>1.0</td>\n",
       "    </tr>\n",
       "  </tbody>\n",
       "</table>\n",
       "</div>"
      ],
      "text/plain": [
       "             location city country pollutant  value                 timestamp  \\\n",
       "0     Mobile_Cle Elum  037      US      pm25   0.00 2017-09-26 20:00:00+00:00   \n",
       "1  Mobile_WhiteSalmon  039      US      pm25   0.00 2017-09-26 20:00:00+00:00   \n",
       "2      Mobile_Newport  051      US      pm25   0.00 2017-09-21 18:00:00+00:00   \n",
       "3             FR20047  Ain      FR       no2  45.40 2018-02-13 07:00:00+00:00   \n",
       "4             FR20047  Ain      FR        o3   2.13 2018-02-13 07:00:00+00:00   \n",
       "\n",
       "    unit source_name   latitude   longitude  averaged_over_in_hours  \n",
       "0  µg/m³      AirNow  47.197630 -120.958230                     1.0  \n",
       "1  µg/m³      AirNow  45.732414 -121.492330                     1.0  \n",
       "2  µg/m³      AirNow  48.186485 -117.049160                     1.0  \n",
       "3  µg/m³  EEA France  45.823223    4.953958                     1.0  \n",
       "4  µg/m³  EEA France  45.823223    4.953958                     1.0  "
      ]
     },
     "execution_count": 3,
     "metadata": {},
     "output_type": "execute_result"
    }
   ],
   "source": [
    "open_aq.head('global_air_quality')"
   ]
  },
  {
   "cell_type": "code",
   "execution_count": 4,
   "metadata": {
    "_cell_guid": "6bc20bb0-ff71-486b-8fec-ef9acd0907fd",
    "_uuid": "12b421af22eb55c6c7ae6d3085c0a1be94502fdd",
    "collapsed": false
   },
   "outputs": [
    {
     "data": {
      "text/plain": [
       "[SchemaField('location', 'string', 'NULLABLE', 'Location where data was measured', ()),\n",
       " SchemaField('city', 'string', 'NULLABLE', 'City containing location', ()),\n",
       " SchemaField('country', 'string', 'NULLABLE', 'Country containing measurement in 2 letter ISO code', ()),\n",
       " SchemaField('pollutant', 'string', 'NULLABLE', 'Name of the Pollutant being measured. Allowed values: PM25, PM10, SO2, NO2, O3, CO, BC', ()),\n",
       " SchemaField('value', 'float', 'NULLABLE', 'Latest measured value for the pollutant', ()),\n",
       " SchemaField('timestamp', 'timestamp', 'NULLABLE', 'The datetime at which the pollutant was measured, in ISO 8601 format', ()),\n",
       " SchemaField('unit', 'string', 'NULLABLE', 'The unit the value was measured in coded by UCUM Code', ()),\n",
       " SchemaField('source_name', 'string', 'NULLABLE', 'Name of the source of the data', ()),\n",
       " SchemaField('latitude', 'float', 'NULLABLE', 'Latitude in decimal degrees. Precision >3 decimal points.', ()),\n",
       " SchemaField('longitude', 'float', 'NULLABLE', 'Longitude in decimal degrees. Precision >3 decimal points.', ()),\n",
       " SchemaField('averaged_over_in_hours', 'float', 'NULLABLE', 'The number of hours the value was averaged over.', ())]"
      ]
     },
     "execution_count": 4,
     "metadata": {},
     "output_type": "execute_result"
    }
   ],
   "source": [
    "open_aq.table_schema('global_air_quality')"
   ]
  },
  {
   "cell_type": "code",
   "execution_count": 5,
   "metadata": {
    "_cell_guid": "43701e51-9307-4e31-9148-297bde65f689",
    "_uuid": "8962609e89ac68849a8069bd0e3b8bb7359dd3b6",
    "collapsed": false
   },
   "outputs": [
    {
     "data": {
      "text/html": [
       "<div>\n",
       "<style>\n",
       "    .dataframe thead tr:only-child th {\n",
       "        text-align: right;\n",
       "    }\n",
       "\n",
       "    .dataframe thead th {\n",
       "        text-align: left;\n",
       "    }\n",
       "\n",
       "    .dataframe tbody tr th {\n",
       "        vertical-align: top;\n",
       "    }\n",
       "</style>\n",
       "<table border=\"1\" class=\"dataframe\">\n",
       "  <thead>\n",
       "    <tr style=\"text-align: right;\">\n",
       "      <th></th>\n",
       "      <th>unit</th>\n",
       "    </tr>\n",
       "  </thead>\n",
       "  <tbody>\n",
       "    <tr>\n",
       "      <th>0</th>\n",
       "      <td>µg/m³</td>\n",
       "    </tr>\n",
       "    <tr>\n",
       "      <th>1</th>\n",
       "      <td>µg/m³</td>\n",
       "    </tr>\n",
       "    <tr>\n",
       "      <th>2</th>\n",
       "      <td>µg/m³</td>\n",
       "    </tr>\n",
       "    <tr>\n",
       "      <th>3</th>\n",
       "      <td>µg/m³</td>\n",
       "    </tr>\n",
       "    <tr>\n",
       "      <th>4</th>\n",
       "      <td>µg/m³</td>\n",
       "    </tr>\n",
       "    <tr>\n",
       "      <th>5</th>\n",
       "      <td>µg/m³</td>\n",
       "    </tr>\n",
       "    <tr>\n",
       "      <th>6</th>\n",
       "      <td>µg/m³</td>\n",
       "    </tr>\n",
       "    <tr>\n",
       "      <th>7</th>\n",
       "      <td>µg/m³</td>\n",
       "    </tr>\n",
       "    <tr>\n",
       "      <th>8</th>\n",
       "      <td>µg/m³</td>\n",
       "    </tr>\n",
       "    <tr>\n",
       "      <th>9</th>\n",
       "      <td>µg/m³</td>\n",
       "    </tr>\n",
       "    <tr>\n",
       "      <th>10</th>\n",
       "      <td>µg/m³</td>\n",
       "    </tr>\n",
       "    <tr>\n",
       "      <th>11</th>\n",
       "      <td>µg/m³</td>\n",
       "    </tr>\n",
       "    <tr>\n",
       "      <th>12</th>\n",
       "      <td>µg/m³</td>\n",
       "    </tr>\n",
       "    <tr>\n",
       "      <th>13</th>\n",
       "      <td>µg/m³</td>\n",
       "    </tr>\n",
       "    <tr>\n",
       "      <th>14</th>\n",
       "      <td>µg/m³</td>\n",
       "    </tr>\n",
       "    <tr>\n",
       "      <th>15</th>\n",
       "      <td>µg/m³</td>\n",
       "    </tr>\n",
       "    <tr>\n",
       "      <th>16</th>\n",
       "      <td>µg/m³</td>\n",
       "    </tr>\n",
       "    <tr>\n",
       "      <th>17</th>\n",
       "      <td>ppm</td>\n",
       "    </tr>\n",
       "    <tr>\n",
       "      <th>18</th>\n",
       "      <td>ppm</td>\n",
       "    </tr>\n",
       "    <tr>\n",
       "      <th>19</th>\n",
       "      <td>µg/m³</td>\n",
       "    </tr>\n",
       "  </tbody>\n",
       "</table>\n",
       "</div>"
      ],
      "text/plain": [
       "     unit\n",
       "0   µg/m³\n",
       "1   µg/m³\n",
       "2   µg/m³\n",
       "3   µg/m³\n",
       "4   µg/m³\n",
       "5   µg/m³\n",
       "6   µg/m³\n",
       "7   µg/m³\n",
       "8   µg/m³\n",
       "9   µg/m³\n",
       "10  µg/m³\n",
       "11  µg/m³\n",
       "12  µg/m³\n",
       "13  µg/m³\n",
       "14  µg/m³\n",
       "15  µg/m³\n",
       "16  µg/m³\n",
       "17    ppm\n",
       "18    ppm\n",
       "19  µg/m³"
      ]
     },
     "execution_count": 5,
     "metadata": {},
     "output_type": "execute_result"
    }
   ],
   "source": [
    "open_aq.head(\"global_air_quality\", selected_columns=\"unit\", num_rows=20)"
   ]
  },
  {
   "cell_type": "code",
   "execution_count": 6,
   "metadata": {
    "_cell_guid": "5fc95389-3d74-408c-97bf-f8b9470049c3",
    "_uuid": "bc2f43b4ee0a32f61b98f385b6dc7086996a641d",
    "collapsed": false
   },
   "outputs": [
    {
     "data": {
      "text/plain": [
       "0.0001949109137058258"
      ]
     },
     "execution_count": 6,
     "metadata": {},
     "output_type": "execute_result"
    }
   ],
   "source": [
    "query = \"\"\"SELECT country\n",
    "            FROM `bigquery-public-data.openaq.global_air_quality`\n",
    "            WHERE unit != 'ppm'\n",
    "        \"\"\"\n",
    "open_aq.estimate_query_size(query)"
   ]
  },
  {
   "cell_type": "code",
   "execution_count": 7,
   "metadata": {
    "_cell_guid": "0de88baa-36b2-449b-8bb9-ed497b18e10b",
    "_uuid": "2f1403a2aa7599c0bdae98d9bfb9f5b7ed9b9151",
    "collapsed": false
   },
   "outputs": [
    {
     "data": {
      "text/html": [
       "<div>\n",
       "<style>\n",
       "    .dataframe thead tr:only-child th {\n",
       "        text-align: right;\n",
       "    }\n",
       "\n",
       "    .dataframe thead th {\n",
       "        text-align: left;\n",
       "    }\n",
       "\n",
       "    .dataframe tbody tr th {\n",
       "        vertical-align: top;\n",
       "    }\n",
       "</style>\n",
       "<table border=\"1\" class=\"dataframe\">\n",
       "  <thead>\n",
       "    <tr style=\"text-align: right;\">\n",
       "      <th></th>\n",
       "      <th>country</th>\n",
       "    </tr>\n",
       "  </thead>\n",
       "  <tbody>\n",
       "    <tr>\n",
       "      <th>0</th>\n",
       "      <td>AD</td>\n",
       "    </tr>\n",
       "    <tr>\n",
       "      <th>1</th>\n",
       "      <td>AD</td>\n",
       "    </tr>\n",
       "    <tr>\n",
       "      <th>2</th>\n",
       "      <td>AD</td>\n",
       "    </tr>\n",
       "    <tr>\n",
       "      <th>3</th>\n",
       "      <td>AD</td>\n",
       "    </tr>\n",
       "    <tr>\n",
       "      <th>4</th>\n",
       "      <td>AD</td>\n",
       "    </tr>\n",
       "  </tbody>\n",
       "</table>\n",
       "</div>"
      ],
      "text/plain": [
       "  country\n",
       "0      AD\n",
       "1      AD\n",
       "2      AD\n",
       "3      AD\n",
       "4      AD"
      ]
     },
     "execution_count": 7,
     "metadata": {},
     "output_type": "execute_result"
    }
   ],
   "source": [
    "countris_not_use_ppm = open_aq.query_to_pandas(query)\n",
    "countris_not_use_ppm.head()"
   ]
  },
  {
   "cell_type": "code",
   "execution_count": 8,
   "metadata": {
    "_cell_guid": "8283beb6-fa27-4a87-8ea9-ce5f9c7650b4",
    "_uuid": "27489738308fa8c63e31072ff8efe7842e2a5048",
    "collapsed": true
   },
   "outputs": [],
   "source": [
    "countris_not_use_ppm = countris_not_use_ppm.drop_duplicates()"
   ]
  },
  {
   "cell_type": "code",
   "execution_count": 9,
   "metadata": {
    "_cell_guid": "93f8dbca-95a5-40f6-a8e6-75b13c11cf45",
    "_uuid": "9ba9960850f4bce75b9974a20a8d184d5e5133e1",
    "collapsed": false
   },
   "outputs": [
    {
     "data": {
      "text/html": [
       "<div>\n",
       "<style>\n",
       "    .dataframe thead tr:only-child th {\n",
       "        text-align: right;\n",
       "    }\n",
       "\n",
       "    .dataframe thead th {\n",
       "        text-align: left;\n",
       "    }\n",
       "\n",
       "    .dataframe tbody tr th {\n",
       "        vertical-align: top;\n",
       "    }\n",
       "</style>\n",
       "<table border=\"1\" class=\"dataframe\">\n",
       "  <thead>\n",
       "    <tr style=\"text-align: right;\">\n",
       "      <th></th>\n",
       "      <th>country</th>\n",
       "    </tr>\n",
       "  </thead>\n",
       "  <tbody>\n",
       "    <tr>\n",
       "      <th>0</th>\n",
       "      <td>AD</td>\n",
       "    </tr>\n",
       "    <tr>\n",
       "      <th>7</th>\n",
       "      <td>AE</td>\n",
       "    </tr>\n",
       "    <tr>\n",
       "      <th>8</th>\n",
       "      <td>AR</td>\n",
       "    </tr>\n",
       "    <tr>\n",
       "      <th>12</th>\n",
       "      <td>AT</td>\n",
       "    </tr>\n",
       "    <tr>\n",
       "      <th>797</th>\n",
       "      <td>AU</td>\n",
       "    </tr>\n",
       "  </tbody>\n",
       "</table>\n",
       "</div>"
      ],
      "text/plain": [
       "    country\n",
       "0        AD\n",
       "7        AE\n",
       "8        AR\n",
       "12       AT\n",
       "797      AU"
      ]
     },
     "execution_count": 9,
     "metadata": {},
     "output_type": "execute_result"
    }
   ],
   "source": [
    "countris_not_use_ppm.head()"
   ]
  },
  {
   "cell_type": "code",
   "execution_count": 10,
   "metadata": {
    "_cell_guid": "52948e9b-d6f5-42f0-9af6-d3dd65e19edc",
    "_uuid": "2115de04bd9892df24c376863219fd375f875429",
    "collapsed": true
   },
   "outputs": [],
   "source": [
    "query2 = \"\"\"\n",
    "SELECT pollutant\n",
    "FROM `bigquery-public-data.openaq.global_air_quality`\n",
    "WHERE value = 0\n",
    "\"\"\"\n",
    "pullutants_with_zero_value = open_aq.query_to_pandas(query2)"
   ]
  },
  {
   "cell_type": "code",
   "execution_count": 11,
   "metadata": {
    "_cell_guid": "a2fded24-c5b6-4272-9d59-01220c39483c",
    "_uuid": "37d78a2c8fc12aabfd7031138fc1a5fcc21a05c8",
    "collapsed": false
   },
   "outputs": [
    {
     "data": {
      "text/html": [
       "<div>\n",
       "<style>\n",
       "    .dataframe thead tr:only-child th {\n",
       "        text-align: right;\n",
       "    }\n",
       "\n",
       "    .dataframe thead th {\n",
       "        text-align: left;\n",
       "    }\n",
       "\n",
       "    .dataframe tbody tr th {\n",
       "        vertical-align: top;\n",
       "    }\n",
       "</style>\n",
       "<table border=\"1\" class=\"dataframe\">\n",
       "  <thead>\n",
       "    <tr style=\"text-align: right;\">\n",
       "      <th></th>\n",
       "      <th>pollutant</th>\n",
       "    </tr>\n",
       "  </thead>\n",
       "  <tbody>\n",
       "    <tr>\n",
       "      <th>count</th>\n",
       "      <td>752</td>\n",
       "    </tr>\n",
       "    <tr>\n",
       "      <th>unique</th>\n",
       "      <td>7</td>\n",
       "    </tr>\n",
       "    <tr>\n",
       "      <th>top</th>\n",
       "      <td>so2</td>\n",
       "    </tr>\n",
       "    <tr>\n",
       "      <th>freq</th>\n",
       "      <td>319</td>\n",
       "    </tr>\n",
       "  </tbody>\n",
       "</table>\n",
       "</div>"
      ],
      "text/plain": [
       "       pollutant\n",
       "count        752\n",
       "unique         7\n",
       "top          so2\n",
       "freq         319"
      ]
     },
     "execution_count": 11,
     "metadata": {},
     "output_type": "execute_result"
    }
   ],
   "source": [
    "pullutants_with_zero_value.describe()"
   ]
  },
  {
   "cell_type": "code",
   "execution_count": 12,
   "metadata": {
    "_cell_guid": "4c2c072a-c1c9-4321-ba1e-ab1bb6a89edc",
    "_uuid": "e78b9fe438af476f66163abce24883074a47f95f",
    "collapsed": false
   },
   "outputs": [
    {
     "data": {
      "text/plain": [
       "so2     319\n",
       "no2     114\n",
       "co      104\n",
       "o3       97\n",
       "pm10     65\n",
       "pm25     52\n",
       "bc        1\n",
       "Name: pollutant, dtype: int64"
      ]
     },
     "execution_count": 12,
     "metadata": {},
     "output_type": "execute_result"
    }
   ],
   "source": [
    "pullutants_with_zero_value.pollutant.value_counts()"
   ]
  },
  {
   "cell_type": "markdown",
   "metadata": {
    "_cell_guid": "a2313b92-8f03-41e3-a28b-99a0f54397b2",
    "_uuid": "b0f920e6fc8e371f7b4ad10ff7015526552a19d5"
   },
   "source": [
    "Please feel free to ask any questions you have in this notebook or in the [Q&A forums](https://www.kaggle.com/questions-and-answers)! \n",
    "\n",
    "Also, if you want to share or get comments on your kernel, remember you need to make it public first! You can change the visibility of your kernel under the \"Settings\" tab, on the right half of your screen."
   ]
  }
 ],
 "metadata": {
  "kernelspec": {
   "display_name": "Python 3",
   "language": "python",
   "name": "python3"
  },
  "language_info": {
   "codemirror_mode": {
    "name": "ipython",
    "version": 3
   },
   "file_extension": ".py",
   "mimetype": "text/x-python",
   "name": "python",
   "nbconvert_exporter": "python",
   "pygments_lexer": "ipython3",
   "version": "3.6.4"
  }
 },
 "nbformat": 4,
 "nbformat_minor": 1
}
