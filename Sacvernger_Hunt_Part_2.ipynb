{
  "cells": [
    {
      "metadata": {
        "_cell_guid": "fda0a223-5fd5-4524-a402-ecaef2905fa0",
        "_kg_hide-output": true,
        "_uuid": "654d2baeecb8757e10d02a63ec6cc63fe2df2339"
      },
      "cell_type": "markdown",
      "source": "# Scavenger hunt\n___\n\nNow it's your turn! Here's the questions I would like you to get the data to answer:\n\n* How many stories (use the \"id\" column) are there of each type (in the \"type\" column) in the full table?\n* How many comments have been deleted? (If a comment was deleted the \"deleted\" column in the comments table will have the value \"True\".)\n* **Optional extra credit**: read about [aggregate functions other than COUNT()](https://cloud.google.com/bigquery/docs/reference/standard-sql/functions-and-operators#aggregate-functions) and modify one of the queries you wrote above to use a different aggregate function.\n\nIn order to answer these questions, you can fork this notebook by hitting the blue \"Fork Notebook\" at the very top of this page (you may have to scroll up). \"Forking\" something is making a copy of it that you can edit on your own without changing the original."
    },
    {
      "metadata": {
        "_cell_guid": "a4f6aab8-ae9b-4123-87e9-94aadf6a757c",
        "_uuid": "c346ce030dd69d682f91756fc9185ae7845066fb",
        "collapsed": true,
        "trusted": true
      },
      "cell_type": "code",
      "source": "# Your code goes here :)\nimport bq_helper\nhacker_news = bq_helper.BigQueryHelper(active_project=\"bigquery-public-data\",\n                                   dataset_name=\"hacker_news\")",
      "execution_count": 6,
      "outputs": []
    },
    {
      "metadata": {
        "trusted": true,
        "_uuid": "e337d0a98603fb117cd5d025ffbe923a9e18f946"
      },
      "cell_type": "code",
      "source": "hacker_news.list_tables()",
      "execution_count": 7,
      "outputs": [
        {
          "data": {
            "text/plain": "['comments', 'full', 'full_201510', 'stories']"
          },
          "execution_count": 7,
          "metadata": {},
          "output_type": "execute_result"
        }
      ]
    },
    {
      "metadata": {
        "trusted": true,
        "_uuid": "772b117f19f70a01ff3a5d461ea16a5bb8e94d32"
      },
      "cell_type": "code",
      "source": "hacker_news.table_schema('full')",
      "execution_count": 10,
      "outputs": [
        {
          "data": {
            "text/plain": "[SchemaField('by', 'string', 'NULLABLE', \"The username of the item's author.\", ()),\n SchemaField('score', 'integer', 'NULLABLE', 'Story score', ()),\n SchemaField('time', 'integer', 'NULLABLE', 'Unix time', ()),\n SchemaField('timestamp', 'timestamp', 'NULLABLE', 'Timestamp for the unix time', ()),\n SchemaField('title', 'string', 'NULLABLE', 'Story title', ()),\n SchemaField('type', 'string', 'NULLABLE', 'Type of details (comment, comment_ranking, poll, story, job, pollopt)', ()),\n SchemaField('url', 'string', 'NULLABLE', 'Story url', ()),\n SchemaField('text', 'string', 'NULLABLE', 'Story or comment text', ()),\n SchemaField('parent', 'integer', 'NULLABLE', 'Parent comment ID', ()),\n SchemaField('deleted', 'boolean', 'NULLABLE', 'Is deleted?', ()),\n SchemaField('dead', 'boolean', 'NULLABLE', 'Is dead?', ()),\n SchemaField('descendants', 'integer', 'NULLABLE', 'Number of story or poll descendants', ()),\n SchemaField('id', 'integer', 'NULLABLE', \"The item's unique id.\", ()),\n SchemaField('ranking', 'integer', 'NULLABLE', 'Comment ranking', ())]"
          },
          "execution_count": 10,
          "metadata": {},
          "output_type": "execute_result"
        }
      ]
    },
    {
      "metadata": {
        "trusted": true,
        "_uuid": "604bfff2609c4e3a9effb84fab1cf3bd368b591b"
      },
      "cell_type": "code",
      "source": "hacker_news.head('full')",
      "execution_count": 11,
      "outputs": [
        {
          "data": {
            "text/html": "<div>\n<style>\n    .dataframe thead tr:only-child th {\n        text-align: right;\n    }\n\n    .dataframe thead th {\n        text-align: left;\n    }\n\n    .dataframe tbody tr th {\n        vertical-align: top;\n    }\n</style>\n<table border=\"1\" class=\"dataframe\">\n  <thead>\n    <tr style=\"text-align: right;\">\n      <th></th>\n      <th>by</th>\n      <th>score</th>\n      <th>time</th>\n      <th>timestamp</th>\n      <th>title</th>\n      <th>type</th>\n      <th>url</th>\n      <th>text</th>\n      <th>parent</th>\n      <th>deleted</th>\n      <th>dead</th>\n      <th>descendants</th>\n      <th>id</th>\n      <th>ranking</th>\n    </tr>\n  </thead>\n  <tbody>\n    <tr>\n      <th>0</th>\n      <td>kevinchen</td>\n      <td>3.0</td>\n      <td>1449206166</td>\n      <td>2015-12-04 05:16:06+00:00</td>\n      <td>Let’s Encrypt and DreamHost</td>\n      <td>story</td>\n      <td>https://www.dreamhost.com/blog/2015/12/03/lets...</td>\n      <td></td>\n      <td>NaN</td>\n      <td>None</td>\n      <td>None</td>\n      <td>1.0</td>\n      <td>10674806</td>\n      <td>None</td>\n    </tr>\n    <tr>\n      <th>1</th>\n      <td>StavrosK</td>\n      <td>NaN</td>\n      <td>1340205250</td>\n      <td>2012-06-20 15:14:10+00:00</td>\n      <td></td>\n      <td>comment</td>\n      <td></td>\n      <td>I had a look at a Galaxy Tab the other day in ...</td>\n      <td>4136609.0</td>\n      <td>None</td>\n      <td>None</td>\n      <td>NaN</td>\n      <td>4137339</td>\n      <td>None</td>\n    </tr>\n    <tr>\n      <th>2</th>\n      <td>javajosh</td>\n      <td>NaN</td>\n      <td>1353972384</td>\n      <td>2012-11-26 23:26:24+00:00</td>\n      <td></td>\n      <td>comment</td>\n      <td></td>\n      <td>Whoah. That's some serious balls - def someone...</td>\n      <td>4834270.0</td>\n      <td>None</td>\n      <td>None</td>\n      <td>NaN</td>\n      <td>4834594</td>\n      <td>None</td>\n    </tr>\n    <tr>\n      <th>3</th>\n      <td>synicalx</td>\n      <td>NaN</td>\n      <td>1501636197</td>\n      <td>2017-08-02 01:09:57+00:00</td>\n      <td></td>\n      <td>comment</td>\n      <td></td>\n      <td>Neato, from a &amp;#x27;user&amp;#x27; perspective how...</td>\n      <td>14898853.0</td>\n      <td>None</td>\n      <td>None</td>\n      <td>NaN</td>\n      <td>14907052</td>\n      <td>None</td>\n    </tr>\n    <tr>\n      <th>4</th>\n      <td>forensic</td>\n      <td>NaN</td>\n      <td>1312344642</td>\n      <td>2011-08-03 04:10:42+00:00</td>\n      <td></td>\n      <td>comment</td>\n      <td></td>\n      <td>Would it be illegal to sell firmware that uses...</td>\n      <td>2839234.0</td>\n      <td>None</td>\n      <td>None</td>\n      <td>NaN</td>\n      <td>2839800</td>\n      <td>None</td>\n    </tr>\n  </tbody>\n</table>\n</div>",
            "text/plain": "          by  score        time                 timestamp  \\\n0  kevinchen    3.0  1449206166 2015-12-04 05:16:06+00:00   \n1   StavrosK    NaN  1340205250 2012-06-20 15:14:10+00:00   \n2   javajosh    NaN  1353972384 2012-11-26 23:26:24+00:00   \n3   synicalx    NaN  1501636197 2017-08-02 01:09:57+00:00   \n4   forensic    NaN  1312344642 2011-08-03 04:10:42+00:00   \n\n                         title     type  \\\n0  Let’s Encrypt and DreamHost    story   \n1                               comment   \n2                               comment   \n3                               comment   \n4                               comment   \n\n                                                 url  \\\n0  https://www.dreamhost.com/blog/2015/12/03/lets...   \n1                                                      \n2                                                      \n3                                                      \n4                                                      \n\n                                                text      parent deleted  \\\n0                                                            NaN    None   \n1  I had a look at a Galaxy Tab the other day in ...   4136609.0    None   \n2  Whoah. That's some serious balls - def someone...   4834270.0    None   \n3  Neato, from a &#x27;user&#x27; perspective how...  14898853.0    None   \n4  Would it be illegal to sell firmware that uses...   2839234.0    None   \n\n   dead  descendants        id ranking  \n0  None          1.0  10674806    None  \n1  None          NaN   4137339    None  \n2  None          NaN   4834594    None  \n3  None          NaN  14907052    None  \n4  None          NaN   2839800    None  "
          },
          "execution_count": 11,
          "metadata": {},
          "output_type": "execute_result"
        }
      ]
    },
    {
      "metadata": {
        "trusted": true,
        "_uuid": "da7b9d1b1aa9ecb2136801b89e4fafca76035c68"
      },
      "cell_type": "code",
      "source": "query1 = \"\"\"\nSELECT type, COUNT(id)\nFROM `bigquery-public-data.hacker_news.full`\nGROUP BY type\n\"\"\"\nnumber_of_type_by_stories = hacker_news.query_to_pandas(query1)\nnumber_of_type_by_stories.head()",
      "execution_count": 19,
      "outputs": [
        {
          "data": {
            "text/html": "<div>\n<style>\n    .dataframe thead tr:only-child th {\n        text-align: right;\n    }\n\n    .dataframe thead th {\n        text-align: left;\n    }\n\n    .dataframe tbody tr th {\n        vertical-align: top;\n    }\n</style>\n<table border=\"1\" class=\"dataframe\">\n  <thead>\n    <tr style=\"text-align: right;\">\n      <th></th>\n      <th>type</th>\n      <th>f0_</th>\n    </tr>\n  </thead>\n  <tbody>\n    <tr>\n      <th>0</th>\n      <td>story</td>\n      <td>2846448</td>\n    </tr>\n    <tr>\n      <th>1</th>\n      <td>comment</td>\n      <td>13494262</td>\n    </tr>\n    <tr>\n      <th>2</th>\n      <td>job</td>\n      <td>10164</td>\n    </tr>\n    <tr>\n      <th>3</th>\n      <td>pollopt</td>\n      <td>11806</td>\n    </tr>\n    <tr>\n      <th>4</th>\n      <td>poll</td>\n      <td>1728</td>\n    </tr>\n  </tbody>\n</table>\n</div>",
            "text/plain": "      type       f0_\n0    story   2846448\n1  comment  13494262\n2      job     10164\n3  pollopt     11806\n4     poll      1728"
          },
          "execution_count": 19,
          "metadata": {},
          "output_type": "execute_result"
        }
      ]
    },
    {
      "metadata": {
        "trusted": true,
        "collapsed": true,
        "_uuid": "ee02f4dfcd3f726dd2014332dd23556c2b257bc1"
      },
      "cell_type": "code",
      "source": "query2 = \"\"\"\nSELECT SUM(deleted_int)\nFROM (\n    SELECT deleted, CAST(deleted as INT64) as deleted_int\n    FROM `bigquery-public-data.hacker_news.full`\n    ) as SubQuery\n\"\"\"\nnumber_of_deleted_stories = hacker_news.query_to_pandas(query2)",
      "execution_count": 30,
      "outputs": []
    },
    {
      "metadata": {
        "trusted": true,
        "_uuid": "8cfe979bd94c63502e6a0d34a144f2c0da364d76"
      },
      "cell_type": "code",
      "source": "number_of_deleted_stories",
      "execution_count": 31,
      "outputs": [
        {
          "data": {
            "text/html": "<div>\n<style>\n    .dataframe thead tr:only-child th {\n        text-align: right;\n    }\n\n    .dataframe thead th {\n        text-align: left;\n    }\n\n    .dataframe tbody tr th {\n        vertical-align: top;\n    }\n</style>\n<table border=\"1\" class=\"dataframe\">\n  <thead>\n    <tr style=\"text-align: right;\">\n      <th></th>\n      <th>f0_</th>\n    </tr>\n  </thead>\n  <tbody>\n    <tr>\n      <th>0</th>\n      <td>494700</td>\n    </tr>\n  </tbody>\n</table>\n</div>",
            "text/plain": "      f0_\n0  494700"
          },
          "execution_count": 31,
          "metadata": {},
          "output_type": "execute_result"
        }
      ]
    },
    {
      "metadata": {
        "_cell_guid": "a2313b92-8f03-41e3-a28b-99a0f54397b2",
        "_uuid": "b0f920e6fc8e371f7b4ad10ff7015526552a19d5"
      },
      "cell_type": "markdown",
      "source": "Please feel free to ask any questions you have in this notebook or in the [Q&A forums](https://www.kaggle.com/questions-and-answers)! \n\nAlso, if you want to share or get comments on your kernel, remember you need to make it public first! You can change the visibility of your kernel under the \"Settings\" tab, on the right half of your screen."
    }
  ],
  "metadata": {
    "kernelspec": {
      "display_name": "Python 3",
      "language": "python",
      "name": "python3"
    },
    "language_info": {
      "name": "python",
      "version": "3.6.4",
      "mimetype": "text/x-python",
      "codemirror_mode": {
        "name": "ipython",
        "version": 3
      },
      "pygments_lexer": "ipython3",
      "nbconvert_exporter": "python",
      "file_extension": ".py"
    }
  },
  "nbformat": 4,
  "nbformat_minor": 1
}