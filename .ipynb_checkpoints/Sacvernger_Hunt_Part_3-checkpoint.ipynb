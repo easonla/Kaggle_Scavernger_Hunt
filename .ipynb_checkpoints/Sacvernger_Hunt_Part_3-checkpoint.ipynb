{
 "cells": [
  {
   "cell_type": "markdown",
   "metadata": {
    "_cell_guid": "fda0a223-5fd5-4524-a402-ecaef2905fa0",
    "_kg_hide-output": true,
    "_uuid": "654d2baeecb8757e10d02a63ec6cc63fe2df2339"
   },
   "source": [
    "# Scavenger hunt\n",
    "___\n",
    "\n",
    "Now it's your turn! Here are the questions I would like you to get the data to answer:\n",
    "\n",
    "* Which hours of the day do the most accidents occur during?\n",
    "    * Return a table that has information on how many accidents occurred in each hour of the day in 2015, sorted by the the number of accidents which occurred each hour. Use either the accident_2015 or accident_2016 table for this, and the timestamp_of_crash column. (Yes, there is an hour_of_crash column, but if you use that one you won't get a chance to practice with dates. :P)\n",
    "    * **Hint:** You will probably want to use the [EXTRACT() function](https://cloud.google.com/bigquery/docs/reference/standard-sql/functions-and-operators#extract_1) for this.\n",
    "* Which state has the most hit and runs?\n",
    "    * Return a table with the number of vehicles registered in each state that were involved in hit-and-run accidents, sorted by the number of hit and runs. Use either the vehicle_2015 or vehicle_2016 table for this, especially the registration_state_name and hit_and_run columns.\n",
    "\n",
    "In order to answer these questions, you can fork this notebook by hitting the blue \"Fork Notebook\" at the very top of this page (you may have to scroll up). \"Forking\" something is making a copy of it that you can edit on your own without changing the original."
   ]
  },
  {
   "cell_type": "code",
   "execution_count": 10,
   "metadata": {
    "_cell_guid": "a4f6aab8-ae9b-4123-87e9-94aadf6a757c",
    "_uuid": "c346ce030dd69d682f91756fc9185ae7845066fb",
    "collapsed": false
   },
   "outputs": [
    {
     "data": {
      "text/plain": [
       "['accident_2015', 'accident_2016', 'cevent_2015', 'cevent_2016', 'damage_2015']"
      ]
     },
     "execution_count": 10,
     "metadata": {},
     "output_type": "execute_result"
    }
   ],
   "source": [
    "# Your code goes here :)\n",
    "import bq_helper\n",
    "accidents = bq_helper.BigQueryHelper(active_project=\"bigquery-public-data\",\n",
    "                                   dataset_name=\"nhtsa_traffic_fatalities\")\n",
    "accidents.list_tables()[:5]"
   ]
  },
  {
   "cell_type": "code",
   "execution_count": 11,
   "metadata": {
    "_uuid": "7c268f089f3b8e200cebaa9059edaebc9f49b4bb",
    "collapsed": false
   },
   "outputs": [
    {
     "data": {
      "text/plain": [
       "[SchemaField('state_number', 'integer', 'NULLABLE', 'This data element identifies the state in which the crash occurred. The codes are from the General Services Administration’s (GSA) publication of worldwide Geographic Location Codes (GLC). For more info on the codes, please look at <C1/V1/D1/PC1/P1/NM1 State Number> section in the pdf: https://crashstats.nhtsa.dot.gov/Api/Public/ViewPublication/812315', ()),\n",
       " SchemaField('state_name', 'string', 'NULLABLE', 'This data element identifies the state in which the crash occurred. The codes are from the General Services Administration’s (GSA) publication of worldwide Geographic Location Codes (GLC).', ()),\n",
       " SchemaField('consecutive_number', 'integer', 'NULLABLE', 'This data element is the unique case number assigned to each crash. It appears on each data file and is used to merge information from the data files together. xxxxxx Two Characters for State Code followed by Four Characters for Case Number', ()),\n",
       " SchemaField('number_of_vehicle_forms_submitted_all', 'integer', 'NULLABLE', 'number_of_vehicle_forms_submitted_all', ()),\n",
       " SchemaField('number_of_motor_vehicles_in_transport_mvit', 'integer', 'NULLABLE', 'This data element is a count of the number of vehicles in-transport involved in the crash. Legally parked vehicles are not included. 001-999 Number of Vehicle Forms', ()),\n",
       " SchemaField('number_of_parked_working_vehicles', 'integer', 'NULLABLE', 'This data element is a count of the number of parked and working vehicles involved in the crash. 0-999 Number of Parked/Working Vehicles in the Crash', ()),\n",
       " SchemaField('number_of_forms_submitted_for_persons_not_in_motor_vehicles', 'integer', 'NULLABLE', 'This data element is the number of Person Forms (Not a Motor Vehicle Occupant) that are applicable to this case (i.e., non-occupants). 00-99 Number of Persons Not in Motor Vehicles', ()),\n",
       " SchemaField('number_of_persons_not_in_motor_vehicles_in_transport_mvit', 'integer', 'NULLABLE', 'This data element is a count of the number of non-motorists in the crash. A non-motorist is defined as a pedestrian, a cyclist, an occupant of a motor vehicle not intransport, a person riding a horse, an occupant of an animal drawn conveyance, person associated with non-motorist conveyance (e.g., baby carriage, skate board, wheelchair), or an other non-motorist (e.g., person outside a trafficway, person in a house). 0-98 Number of Persons Not in Motor Vehicles in Transport', ()),\n",
       " SchemaField('number_of_persons_in_motor_vehicles_in_transport_mvit', 'integer', 'NULLABLE', 'This data element is a count of the number of motorists in the crash. A motorist is a driver, passenger or unknown occupant type of a motor vehicle in-transport. 0-999 Number of Persons in Motor Vehicles In-Transport', ()),\n",
       " SchemaField('number_of_forms_submitted_for_persons_in_motor_vehicles', 'integer', 'NULLABLE', 'This data element is a count of the number of Person Level (Motor Vehicle Occupant) Forms that are applicable to this case (i.e., occupants). 000-999 Number of Person Forms', ()),\n",
       " SchemaField('county', 'integer', 'NULLABLE', 'This data element records the location of the unstabilized event with regard to the County. The codes are from the General Services Administration’s (GSA) publication of worldwide Geographic Location Codes (GLC). 000 Not Applicable 001-996 Use GSA Geographical Codes 997 Other 998 Not Reported 999 Unknown', ()),\n",
       " SchemaField('city', 'integer', 'NULLABLE', 'This data element records the location of the unstabilized event with regard to the City. The codes are from the General Services Administration’s (GSA) publication of worldwide Geographic Location Codes (GLC). 0000 Not Applicable 0001-9996 GSA Geographical Codes 9997 Other 9898 Not Reported 9999 Unknown', ()),\n",
       " SchemaField('day_of_crash', 'integer', 'NULLABLE', 'This data element records the day of the month on which the crash occurred. 01-31 Day of the Month of the Crash -- Unknown', ()),\n",
       " SchemaField('month_of_crash', 'integer', 'NULLABLE', 'This data element records the month in which the crash occurred. For more info on the codes, please look at <C8A Month of Crash> section in the pdf: https://crashstats.nhtsa.dot.gov/Api/Public/ViewPublication/812315', ()),\n",
       " SchemaField('year_of_crash', 'integer', 'NULLABLE', 'This data element records the year in which the crash occurred. xxxx Year of the Crash', ()),\n",
       " SchemaField('day_of_week', 'integer', 'NULLABLE', 'This data element records the day of the week on which the crash occurred. 1 Sunday 2 Monday 3 Tuesday 4 Wednesday 5 Thursday 6 Friday 7 Saturday -- Unknown', ()),\n",
       " SchemaField('hour_of_crash', 'integer', 'NULLABLE', 'This data element records the hour at which the crash occurred. 00-23 Hour -- Not Applicable or Not Notified 99 Unknown', ()),\n",
       " SchemaField('minute_of_crash', 'integer', 'NULLABLE', 'This data element records the minutes after the hour at which the crash occurred. 00-59 Minute -- Not Applicable or Not Notified 99 Unknown', ()),\n",
       " SchemaField('national_highway_system', 'integer', 'NULLABLE', 'This data element identifies whether this crash occurred on a trafficway that is part of the National Highway System. 0 This Section is Not on the National Highway System 1 This Section is on the National Highway System 9 Unknown', ()),\n",
       " SchemaField('land_use', 'integer', 'NULLABLE', '1 (Rural), 2 (Urban), 6 (Trafficway Not in State Inventory), 8 (Not Reported) and 9 (Unknown).', ()),\n",
       " SchemaField('land_use_name', 'string', 'NULLABLE', '1 (Rural), 2 (Urban), 6 (Trafficway Not in State Inventory), 8 (Not Reported) and 9 (Unknown).', ()),\n",
       " SchemaField('functional_system', 'integer', 'NULLABLE', '01 (Interstate), 02 (Principal Arterial – Other Freeways and Expressways), 03 (Principal Arterial – Other), 04 (Minor Arterial), 05 (Major Collector), 06 (Minor Collector), 07 (Local), 96 (Trafficway Not in State Inventory), 98 (Not Reported), and 99 (Unknown).', ()),\n",
       " SchemaField('functional_system_name', 'string', 'NULLABLE', '01 (Interstate), 02 (Principal Arterial – Other Freeways and Expressways), 03 (Principal Arterial – Other), 04 (Minor Arterial), 05 (Major Collector), 06 (Minor Collector), 07 (Local), 96 (Trafficway Not in State Inventory), 98 (Not Reported), and 99 (Unknown).', ()),\n",
       " SchemaField('ownership', 'integer', 'NULLABLE', 'For more info on the codes, please look at <C13 Ownership> section in the pdf: https://crashstats.nhtsa.dot.gov/Api/Public/ViewPublication/812315', ()),\n",
       " SchemaField('ownership_name', 'string', 'NULLABLE', 'For more info on the codes, please look at <C13 Ownership> section in the pdf: https://crashstats.nhtsa.dot.gov/Api/Public/ViewPublication/812315', ()),\n",
       " SchemaField('route_signing', 'integer', 'NULLABLE', 'This data element identifies the route signing of the trafficway on which the crash occurred. 1 Interstate 2 U.S. Highway 3 State Highway 4 County Road 5 Local Street – Township 6 Local Street – Municipality 7 Local Street – Frontage Road (Since 1994) 8 Other 9 Unknown', ()),\n",
       " SchemaField('route_signing_name', 'string', 'NULLABLE', 'This data element identifies the route signing of the trafficway on which the crash occurred.', ()),\n",
       " SchemaField('trafficway_identifier', 'string', 'NULLABLE', 'This data element records the trafficway on which the crash occurred. xxxxxxxxxxxxxxxxxxxxxxxxxxxxxx Actual Posted Number, Assigned Number, or Common Name (30 characters) 999999999999999999999999999999 Unknown', ()),\n",
       " SchemaField('trafficway_identifier_2', 'string', 'NULLABLE', 'This data element records the trafficway on which the crash occurred. xxxxxxxxxxxxxxxxxxxxxxxxxxxxxx Actual Posted Number, Assigned Number, or Common Name (30 characters) 999999999999999999999999999999 Unknown', ()),\n",
       " SchemaField('milepoint', 'integer', 'NULLABLE', 'This data element records the milepoint nearest to the location where the crash occurred. 00000 None xxxxx Actual to Nearest Tenth Mile (Assume decimal, e.g., 12345 = 1234.5) 99998 Not Reported 99999 Unknown', ()),\n",
       " SchemaField('latitude', 'float', 'NULLABLE', 'This element identifies the location of the crash using Global Position coordinates. This is the position of latitude. DDDDDD (DD.DDDD – Decimal Degrees) DD.DDDD Actual Degrees 77.7777 Not Reported 88.8888 Not Available (If State Exempt) 99.9999 Unknown', ()),\n",
       " SchemaField('longitude', 'float', 'NULLABLE', 'This element identifies the location of the crash using Global Position coordinates. This is the position of longitude. DDDDDDD (DDD.DDDD – Decimal Degrees) DDD.DDDD Actual Degrees 777.7777 Not Reported 888.8888 Not Available (If State Exempt) 999.9999 Unknown', ()),\n",
       " SchemaField('special_jurisdiction', 'integer', 'NULLABLE', 'This data element identifies if the location on the trafficway where the crash occurred qualifies as a Special Jurisdiction even though it may be patrolled by state, county or local police (e.g., all State highways running through Indian reservations are under the jurisdiction of the Indian reservation). 0 No Special Jurisdiction (Includes National Forests Since 2008) 1 National Park Service 2 Military 3 Indian Reservation 4 College/University Campus 5 Other Federal Properties (Since 1977) 8 Other (Since 1976) 9 Unknown', ()),\n",
       " SchemaField('special_jurisdiction_name', 'string', 'NULLABLE', 'This data element identifies if the location on the trafficway where the crash occurred qualifies as a Special Jurisdiction even though it may be patrolled by state, county or local police (e.g., all State highways running through Indian reservations are under the jurisdiction of the Indian reservation).', ()),\n",
       " SchemaField('first_harmful_event', 'integer', 'NULLABLE', 'This data element describes the first injury or damage producing event of the crash. For more info on the codes, please look at <C19 First Harmful Event> section in the pdf: https://crashstats.nhtsa.dot.gov/Api/Public/ViewPublication/812315', ()),\n",
       " SchemaField('first_harmful_event_name', 'string', 'NULLABLE', 'This data element describes the first injury or damage producing event of the crash.', ()),\n",
       " SchemaField('manner_of_collision', 'integer', 'NULLABLE', 'This data element describes the orientation of two motor vehicles in-transport when they are involved in the “First Harmful Event” of a collision crash. If the “First Harmful Event” is not a collision between two motor vehicles in-transport it is classified as such. For more info on the codes, please look at <C20 Manner of Collision> section in the pdf: https://crashstats.nhtsa.dot.gov/Api/Public/ViewPublication/812315', ()),\n",
       " SchemaField('manner_of_collision_name', 'string', 'NULLABLE', 'This data element describes the orientation of two motor vehicles in-transport when they are involved in the “First Harmful Event” of a collision crash. If the “First Harmful Event” is not a collision between two motor vehicles in-transport it is classified as such.', ()),\n",
       " SchemaField('relation_to_junction_within_interchange_area', 'string', 'NULLABLE', \"This data element identifies the crash's location with respect to presence in an interchange area. The coding of this data element is done in two sub-fields (see also C20B) and is based on the location of the “First Harmful Event” of the crash. 0 No 1 Yes 8 Not Reported 9 Unknown\", ()),\n",
       " SchemaField('relation_to_junction_specific_location', 'integer', 'NULLABLE', \"This data element identifies the crash's location with respect to presence in or proximity to components typically in junction or interchange areas. The coding of this data element is done in two sub-fields (see also C20A) and is based on the location of the “First Harmful Event” of the crash. For more info on the codes, please look at <C21B Relation to Junction- Specific Location> section in the pdf: https://crashstats.nhtsa.dot.gov/Api/Public/ViewPublication/812315\", ()),\n",
       " SchemaField('relation_to_junction_specific_location_name', 'string', 'NULLABLE', \"This data element identifies the crash's location with respect to presence in or proximity to components typically in junction or interchange areas. The coding of this data element is done in two sub-fields (see also C20A) and is based on the location of the “First Harmful Event” of the crash.\", ()),\n",
       " SchemaField('type_of_intersection', 'string', 'NULLABLE', 'This data element identifies and allows separation of various intersection types. 1 Not an Intersection 2 Four-Way Intersection 3 T-Intersection 4 Y-Intersection 5 Traffic Circle 6 Roundabout 7 Five-Point, or More 10 L-Intersection 98 Not Reported 99 Unknown', ()),\n",
       " SchemaField('work_zone', 'string', 'NULLABLE', 'This data element identifies a motor vehicle traffic crash in which the first harmful event occurs within the boundaries of a work zone or on an approach to or exit from a work zone, resulting from an activity, behavior, or control related to the movement of the traffic units through the work zone. 0 None 1 Construction 2 Maintenance -- Construction or Maintenance 3 Utility 4 Work Zone, Type Unknown -- Not Reported', ()),\n",
       " SchemaField('relation_to_trafficway', 'integer', 'NULLABLE', 'This data element identifies the location of the crash as it relates to its position within or outside the trafficway based on the “First Harmful Event.” For more info on the codes, please look at <C23 Relation to Trafficway> section in the pdf: https://crashstats.nhtsa.dot.gov/Api/Public/ViewPublication/812315', ()),\n",
       " SchemaField('relation_to_trafficway_name', 'string', 'NULLABLE', 'This data element identifies the location of the crash as it relates to its position within or outside the trafficway based on the “First Harmful Event.”', ()),\n",
       " SchemaField('light_condition', 'integer', 'NULLABLE', 'This data element records the type/level of light that existed at the time of the crash as indicated in the case material. For more info on the codes, please look at <C25 Light Condition> section in the pdf: https://crashstats.nhtsa.dot.gov/Api/Public/ViewPublication/812315', ()),\n",
       " SchemaField('light_condition_name', 'string', 'NULLABLE', 'This data element records the type/level of light that existed at the time of the crash as indicated in the case material.', ()),\n",
       " SchemaField('atmospheric_conditions_1', 'integer', 'NULLABLE', 'This data element records the prevailing atmospheric conditions that existed at the time of the crash as indicated in the case material. For more info on the codes, please look at <C26 Atmospheric Conditions> section in the pdf: https://crashstats.nhtsa.dot.gov/Api/Public/ViewPublication/812315', ()),\n",
       " SchemaField('atmospheric_conditions_1_name', 'string', 'NULLABLE', 'This data element records the prevailing atmospheric conditions that existed at the time of the crash as indicated in the case material.', ()),\n",
       " SchemaField('atmospheric_conditions_2', 'integer', 'NULLABLE', 'This data element records the prevailing atmospheric conditions that existed at the time of the crash as indicated in the case material. For more info on the codes, please look at <C26 Atmospheric Conditions> section in the pdf: https://crashstats.nhtsa.dot.gov/Api/Public/ViewPublication/812315', ()),\n",
       " SchemaField('atmospheric_conditions_2_name', 'string', 'NULLABLE', 'This data element records the prevailing atmospheric conditions that existed at the time of the crash as indicated in the case material.', ()),\n",
       " SchemaField('atmospheric_conditions', 'integer', 'NULLABLE', 'This data element records the prevailing atmospheric conditions that existed at the time of the crash as indicated in the case material. For more info on the codes, please look at <C26 Atmospheric Conditions> section in the pdf: https://crashstats.nhtsa.dot.gov/Api/Public/ViewPublication/812315', ()),\n",
       " SchemaField('atmospheric_conditions_name', 'string', 'NULLABLE', 'This data element records the prevailing atmospheric conditions that existed at the time of the crash as indicated in the case material.', ()),\n",
       " SchemaField('school_bus_related', 'string', 'NULLABLE', 'This data element identifies if a school bus, or motor vehicle functioning as a school bus, is related to the crash. 0 No 1 Yes -- Not Reported', ()),\n",
       " SchemaField('rail_grade_crossing_identifier', 'string', 'NULLABLE', 'This data element identifies if the crash occurred in or near a rail grade crossing. 0000000 Not Applicable xxxxxxA Six Digits Followed by One Alphabetic Valid F.R.A. Code 9999999 Unknown', ()),\n",
       " SchemaField('hour_of_notification', 'integer', 'NULLABLE', 'This data element records the hour that emergency medical service was notified. 00-23 Hour -- Not Applicable or Not Notified (when NOT_MIN = 00) 88 Not Applicable or Not Notified 99 Unknown Hour 99 Unknown if Notified (when NOT_MIN = 98)', ()),\n",
       " SchemaField('minute_of_notification', 'integer', 'NULLABLE', 'This data element records the minutes after the hour that emergency medical service was notified. 00-59 Minute -- Not Applicable or Not Notified (when NOT_HOUR = 00) 88 Not Applicable or Not Notified 98 Unknown if Notified 99 Unknown Minutes', ()),\n",
       " SchemaField('hour_of_arrival_at_scene', 'integer', 'NULLABLE', 'This data element records the hour that emergency medical service arrived on the crash scene. 00-23 Hour -- Not Notified or Officially Cancelled (when ARR_MIN = 00) -- Not Notified (when ARR_MIN = 00) 88 Not Applicable or Not Notified 99 Unknown Hour 99 Officially Cancelled (when ARR_MIN = 97) 99 Unknown if Arrived (when ARR_MIN = 98)', ()),\n",
       " SchemaField('minute_of_arrival_at_scene', 'integer', 'NULLABLE', 'This data element records the minutes after the hour that emergency medical service arrived on the crash scene. 00-59 Minute 00 -- Not Notified or Officially Cancelled (when ARR_HOUR = 00) -- Not Notified (when ARR_HOUR = 00) 88 Not Applicable or Not Notified 97 Officially Cancelled 98 Unknown if Arrived 99 Unknown Minutes', ()),\n",
       " SchemaField('hour_of_ems_arrival_at_hospital', 'integer', 'NULLABLE', 'This data element records the hour that emergency medical service arrived at the treatment facility to which it was transporting victims of the crash. 00-23 Hour -- Not Notified, Officially Cancelled or Not Transported (when HOSP_MIN = 00) -- Not Notified or Not Transported (when HOSP_MIN = 00) 88 Not Applicable or Not Notified 99 Unknown Hour 99 Officially Cancelled (when HOSP_MIN = 97) 99 Unknown if Transported (when HOSP_MIN = 98)', ()),\n",
       " SchemaField('minute_of_ems_arrival_at_hospital', 'integer', 'NULLABLE', 'This data element records the minutes after the hour that emergency medical service arrived at the treatment facility to which it was transporting victims of the crash. 00-59 Minute -- Not Notified, Officially Cancelled or Not Transported (when HOSP_HR = 00) -- Not Notified or Not Transported (when HOSP_HR = 00) 88 Not Applicable or Not Notified 96 Terminated Transport 97 Officially Cancelled 98 Unknown if Transported 99 Unknown Minutes', ()),\n",
       " SchemaField('related_factors_crash_level_1', 'integer', 'NULLABLE', 'This data element records factors related to the crash expressed by the investigating officer. For more info on the codes, please look at <C32 Related Factors- Crash Level> section in the pdf: https://crashstats.nhtsa.dot.gov/Api/Public/ViewPublication/812315', ()),\n",
       " SchemaField('related_factors_crash_level_1_name', 'string', 'NULLABLE', 'This data element records factors related to the crash expressed by the investigating officer.', ()),\n",
       " SchemaField('related_factors_crash_level_2', 'integer', 'NULLABLE', 'This data element records factors related to the crash expressed by the investigating officer. For more info on the codes, please look at <C32 Related Factors- Crash Level> section in the pdf: https://crashstats.nhtsa.dot.gov/Api/Public/ViewPublication/812315', ()),\n",
       " SchemaField('related_factors_crash_level_2_name', 'string', 'NULLABLE', 'This data element records factors related to the crash expressed by the investigating officer.', ()),\n",
       " SchemaField('related_factors_crash_level_3', 'integer', 'NULLABLE', 'This data element records factors related to the crash expressed by the investigating officer. For more info on the codes, please look at <C32 Related Factors- Crash Level> section in the pdf: https://crashstats.nhtsa.dot.gov/Api/Public/ViewPublication/812315', ()),\n",
       " SchemaField('related_factors_crash_level_3_name', 'string', 'NULLABLE', 'This data element records factors related to the crash expressed by the investigating officer.', ()),\n",
       " SchemaField('number_of_fatalities', 'integer', 'NULLABLE', 'This data element records the number of fatally injured persons in the crash. 01-99 Number of Fatalities that Occurred in the Crash.', ()),\n",
       " SchemaField('number_of_drunk_drivers', 'integer', 'NULLABLE', 'This data element records the number of drunk drivers involved in the crash. 00-99 Number of Drunk Drivers Involved in the Fatal Crash.', ()),\n",
       " SchemaField('timestamp_of_crash', 'timestamp', 'NULLABLE', 'This data element records the date and time on which the crash occurred.', ())]"
      ]
     },
     "execution_count": 11,
     "metadata": {},
     "output_type": "execute_result"
    }
   ],
   "source": [
    "accidents.table_schema('accident_2015')"
   ]
  },
  {
   "cell_type": "code",
   "execution_count": 13,
   "metadata": {
    "_uuid": "7a55abfa30eb7c1862fb95eb058a74c37efff579",
    "collapsed": false
   },
   "outputs": [
    {
     "data": {
      "text/plain": [
       "0.0004848688840866089"
      ]
     },
     "execution_count": 13,
     "metadata": {},
     "output_type": "execute_result"
    }
   ],
   "source": [
    "query1 = '''\n",
    "SELECT COUNT(consecutive_number) as counts, EXTRACT(HOUR FROM timestamp_of_crash) as hours\n",
    "FROM `bigquery-public-data.nhtsa_traffic_fatalities.accident_2015`\n",
    "GROUP BY hours\n",
    "ORDER BY counts DESC\n",
    "'''\n",
    "#check query size\n",
    "accidents.estimate_query_size(query1)"
   ]
  },
  {
   "cell_type": "code",
   "execution_count": 16,
   "metadata": {
    "_uuid": "84bbe10b8eb473d1022cf76914af2385ff6b12c8",
    "collapsed": false
   },
   "outputs": [
    {
     "data": {
      "text/html": [
       "<div>\n",
       "<style>\n",
       "    .dataframe thead tr:only-child th {\n",
       "        text-align: right;\n",
       "    }\n",
       "\n",
       "    .dataframe thead th {\n",
       "        text-align: left;\n",
       "    }\n",
       "\n",
       "    .dataframe tbody tr th {\n",
       "        vertical-align: top;\n",
       "    }\n",
       "</style>\n",
       "<table border=\"1\" class=\"dataframe\">\n",
       "  <thead>\n",
       "    <tr style=\"text-align: right;\">\n",
       "      <th></th>\n",
       "      <th>counts</th>\n",
       "      <th>hours</th>\n",
       "    </tr>\n",
       "  </thead>\n",
       "  <tbody>\n",
       "    <tr>\n",
       "      <th>0</th>\n",
       "      <td>1895</td>\n",
       "      <td>18</td>\n",
       "    </tr>\n",
       "    <tr>\n",
       "      <th>1</th>\n",
       "      <td>1862</td>\n",
       "      <td>20</td>\n",
       "    </tr>\n",
       "    <tr>\n",
       "      <th>2</th>\n",
       "      <td>1838</td>\n",
       "      <td>17</td>\n",
       "    </tr>\n",
       "    <tr>\n",
       "      <th>3</th>\n",
       "      <td>1811</td>\n",
       "      <td>21</td>\n",
       "    </tr>\n",
       "    <tr>\n",
       "      <th>4</th>\n",
       "      <td>1784</td>\n",
       "      <td>19</td>\n",
       "    </tr>\n",
       "  </tbody>\n",
       "</table>\n",
       "</div>"
      ],
      "text/plain": [
       "   counts  hours\n",
       "0    1895     18\n",
       "1    1862     20\n",
       "2    1838     17\n",
       "3    1811     21\n",
       "4    1784     19"
      ]
     },
     "execution_count": 16,
     "metadata": {},
     "output_type": "execute_result"
    }
   ],
   "source": [
    "accidents_by_hour = accidents.query_to_pandas(query1)\n",
    "accidents_by_hour.head()"
   ]
  },
  {
   "cell_type": "code",
   "execution_count": 22,
   "metadata": {
    "_uuid": "b53fb249cb3ec14810b70d84f43e5a388e6cbd9f",
    "collapsed": false
   },
   "outputs": [
    {
     "data": {
      "text/plain": [
       "[SchemaField('state_number', 'integer', 'NULLABLE', 'This data element identifies the state in which the crash occurred. The codes are from the General Services Administration’s (GSA) publication of worldwide Geographic Location Codes (GLC). For more info on the codes, please look at <C1/V1/D1/PC1/P1/NM1 State Number> section in the pdf: https://crashstats.nhtsa.dot.gov/Api/Public/ViewPublication/812315', ()),\n",
       " SchemaField('consecutive_number', 'integer', 'NULLABLE', 'This data element is the unique case number assigned to each crash. It appears on each data file and is used to merge information from the data files together. xxxxxx Two Characters for State Code followed by Four Characters for Case Number', ()),\n",
       " SchemaField('vehicle_number', 'integer', 'NULLABLE', 'This data element is the consecutive number assigned to each vehicle in the case. This data element appears on each vehicle level data file and is used in conjunction with the ST_CASE data element to merge information from vehicle level data files. 000-999 Assigned Number of Motor Vehicle', ()),\n",
       " SchemaField('number_of_motor_vehicles_in_transport_mvit', 'integer', 'NULLABLE', 'This data element is a count of the number of vehicles in-transport involved in the crash. Legally parked vehicles are not included. 001-999 Number of Vehicle Forms', ()),\n",
       " SchemaField('number_of_occupants', 'integer', 'NULLABLE', 'This data element is a count of the number of occupants in this vehicle. 00 None 01-95 Actual Number of Occupants in The Vehicle 96 96 or More Occupants in The Vehicle -- Unknown – Only Injured Reported 98 Not Reported (2010 Only) 99 Unknown', ()),\n",
       " SchemaField('day_of_crash', 'integer', 'NULLABLE', 'This data element records the day of the month on which the crash occurred. 01-31 Day of the Month of the Crash -- Unknown', ()),\n",
       " SchemaField('month_of_crash', 'integer', 'NULLABLE', 'This data element records the month in which the crash occurred.For more info on the codes, please look at C8A Month of Crash section in the pdf: https://crashstats.nhtsa.dot.gov/Api/Public/ViewPublication/812315', ()),\n",
       " SchemaField('hour_of_crash', 'integer', 'NULLABLE', 'This data element records the hour at which the crash occurred.0-23 Hour -- Not Applicable or Not Notified 99 Unknown', ()),\n",
       " SchemaField('minute_of_crash', 'integer', 'NULLABLE', 'This data element records the minutes after the hour at which the crash occurred. 00-59 Minute -- Not Applicable or Not Notified 99 Unknown', ()),\n",
       " SchemaField('first_harmful_event', 'integer', 'NULLABLE', 'This data element describes the first injury or damage producing event of the crash. For more info on the codes, please look at C19 First Harmful Event section in the pdf: https://crashstats.nhtsa.dot.gov/Api/Public/ViewPublication/812315', ()),\n",
       " SchemaField('first_harmful_event_name', 'string', 'NULLABLE', 'This data element describes the first injury or damage producing event of the crash.', ()),\n",
       " SchemaField('manner_of_collision', 'integer', 'NULLABLE', 'This data element describes the orientation of two motor vehicles in-transport when they are involved in the “First Harmful Event” of a collision crash. If the “First Harmful Event” is not a collision between two motor vehicles in-transport it is classified as such. For more info on the codes, please look at C20 Manner of Collision section in the pdf: https://crashstats.nhtsa.dot.gov/Api/Public/ViewPublication/812315', ()),\n",
       " SchemaField('unit_type', 'string', 'NULLABLE', 'This data element identifies the type of unit that applies to this motor vehicle at the time it became an involved vehicle in the crash and was reported as a unit on the PAR. -- Motor Vehicle in Transport 1 Motor Vehicle in Transport (Inside or Outside the Trafficway)', ()),\n",
       " SchemaField('hit_and_run', 'string', 'NULLABLE', 'This data element identifies whether this vehicle was a contact vehicle in the crash that did not stop to render aid (this can include drivers who flee the scene on foot). Hit and run is coded when a motor vehicle in-transport, or its driver, departs from the scene; vehicles not intransport are excluded. It does not matter whether the hit-and-run vehicle was striking or struck. 0 No 1 Yes -- Not Reported 9 Unknown', ()),\n",
       " SchemaField('registration_state', 'integer', 'NULLABLE', 'This element identifies the state in which this vehicle was registered. For more info on the codes, please look at V7 Registration State section in the pdf: https://crashstats.nhtsa.dot.gov/Api/Public/ViewPublication/812315', ()),\n",
       " SchemaField('registration_state_name', 'string', 'NULLABLE', 'This element identifies the state in which this vehicle was registered.', ()),\n",
       " SchemaField('registered_vehicle_owner', 'integer', 'NULLABLE', 'This data element identifies the type of registered owner of the vehicle. 0 Not Applicable, Vehicle Not Registered 1 Driver (of This Vehicle) Was Registered Owner 2 Driver (of This Vehicle) Not Registered Owner (Other Private Owner) 3 Vehicle Registered as Business/Company/Government Vehicle 4 Vehicle Registered as Rental Vehicle 5 Vehicle Was Stolen (Reported By Police) -- Driverless Vehicle 6 Driverless/Motor Vehicle Parked/Stopped Off Roadway 9 Unknown', ()),\n",
       " SchemaField('registered_vehicle_owner_name', 'string', 'NULLABLE', 'This data element identifies the type of registered owner of the vehicle.', ()),\n",
       " SchemaField('vehicle_make', 'integer', 'NULLABLE', 'This data element identifies the make (manufacturer) of this vehicle. For more info on the codes, please look at V9 Vehicle Make section in the pdf: https://crashstats.nhtsa.dot.gov/Api/Public/ViewPublication/812315', ()),\n",
       " SchemaField('vehicle_make_name', 'string', 'NULLABLE', 'This data element identifies the make (manufacturer) of this vehicle', ()),\n",
       " SchemaField('vehicle_model', 'integer', 'NULLABLE', 'This data element identifies the model of this vehicle within a given make. For more info on the codes, please look at V10 Vehicle Model section in the pdf: https://crashstats.nhtsa.dot.gov/Api/Public/ViewPublication/812315', ()),\n",
       " SchemaField('make_model_combined', 'integer', 'NULLABLE', 'This derived data element represents the 5-digit combination of two data elements, the 2-digit “Vehicle Make” code (MAKE) followed by the 3-digit “Vehicle Model” code (MODEL). For more info on the codes, please look at V100 Make Model Combined section in the pdf: https://crashstats.nhtsa.dot.gov/Api/Public/ViewPublication/812315', ()),\n",
       " SchemaField('body_type', 'integer', 'NULLABLE', 'This data element identifies a classification of this vehicle based on its general body configuration, size, shape, doors, etc. For more info on the codes, please look at V11 Body Type section in the pdf: https://crashstats.nhtsa.dot.gov/Api/Public/ViewPublication/812315', ()),\n",
       " SchemaField('body_type_name', 'string', 'NULLABLE', 'This data element identifies a classification of this vehicle based on its general body configuration, size, shape, doors, etc.', ()),\n",
       " SchemaField('vehicle_model_year', 'integer', 'NULLABLE', \"This data element identifies the manufacturer's model year of this vehicle. 0000-9997 Actual year of vehicle manufacture 9998 Not Reported 9999 Unknown\", ()),\n",
       " SchemaField('vehicle_identification_number_vin', 'string', 'NULLABLE', 'This data element records the vehicle identification number (VIN) of this vehicle assigned by the vehicle manufacturer. The VIN contains information on the vehicle such as: manufacturer, model year, model, body type, restraint type, etc. -- First 10 Characters xxxxxxxxxxxx  First 12 Characters 000000000000 No VIN Required 888888888888 Not Reported 999999999999 Unknown', ()),\n",
       " SchemaField('vin_character_1', 'string', 'NULLABLE', 'This data element represents the first character in the VIN string for this vehicle. x First Character in the VIN String', ()),\n",
       " SchemaField('vin_character_2', 'string', 'NULLABLE', 'This data element represents the second character in the VIN string for this vehicle. x Second Character in the VIN String', ()),\n",
       " SchemaField('vin_character_3', 'string', 'NULLABLE', 'This data element represents the third character in the VIN string for this vehicle. x Third Character in the VIN String', ()),\n",
       " SchemaField('vin_character_4', 'string', 'NULLABLE', 'This data element represents the fourth character in the VIN string for this vehicle. x Fourth Character in the VIN String', ()),\n",
       " SchemaField('vin_character_5', 'string', 'NULLABLE', 'This data element represents the fifth character in the VIN string for this vehicle. x Fifth Character in the VIN String', ()),\n",
       " SchemaField('vin_character_6', 'string', 'NULLABLE', 'This data element represents the sixth character in the VIN string for this vehicle. x Sixth Character in the VIN String', ()),\n",
       " SchemaField('vin_character_7', 'string', 'NULLABLE', 'This data element represents the seventh character in the VIN string for this vehicle. x Seventh Character in the VIN String', ()),\n",
       " SchemaField('vin_character_8', 'string', 'NULLABLE', 'This data element represents the eighth character in the VIN string for this vehicle. x Eighth Character in the VIN String', ()),\n",
       " SchemaField('vin_character_9', 'string', 'NULLABLE', 'This data element represents the ninth character in the VIN string for this vehicle. x Ninth Character in the VIN String', ()),\n",
       " SchemaField('vin_character_10', 'string', 'NULLABLE', 'This data element represents the tenth character in the VIN string for this vehicle. x Tenth Character in the VIN String', ()),\n",
       " SchemaField('vin_character_11', 'string', 'NULLABLE', 'This data element represents the eleventh character in the VIN string for this vehicle. x Eleventh Character in the VIN String', ()),\n",
       " SchemaField('vin_character_12', 'string', 'NULLABLE', 'This data element represents the twelfth character in the VIN string for this vehicle. x Twelfth Character in the VIN String', ()),\n",
       " SchemaField('vehicle_trailing', 'string', 'NULLABLE', 'This data element identifies whether this vehicle had any attached trailing units or was towing another motor vehicle. A trailing unit can be a horse trailer, fifth wheel trailer, camper, boat, truck trailer, towed vehicle or any other trailer. 0 No Trailing Unit 1 Yes, One Trailing Unit 2 Yes, Two Trailing Units 3 Yes, Three or More Trailing Units 4 Yes, Number of Trailing Units Unknown -- Vehicle Towing another Motor Vehicle 5 Vehicle Towing another Motor Vehicle – Fixed Linkage 6 Vehicle Towing another Motor Vehicle – Non-Fixed Linkage 9 Unknown', ()),\n",
       " SchemaField('jackknife', 'string', 'NULLABLE', 'This data element identifies whether this vehicle experienced a jackknife anytime during the unstabilized situation. 0 Not an Articulated Vehicle 1 No -- Yes 2 Yes, First Event 3 Yes, Subsequent Event', ()),\n",
       " SchemaField('mcid_issuing_authority', 'integer', 'NULLABLE', 'This data element records the issuing authority if applicable to this vehicle. 00 Not Applicable 01-56 FARS State Code 57 US DOT 58 MC/MX (ICC) 77 Not Reported 88 None 95 Canada 96 Mexico 99 Unknown', ()),\n",
       " SchemaField('mcid_identification_number', 'string', 'NULLABLE', 'This data element records the motor carrier identification number if applicable to this vehicle. xxxxxxxxx Actual 9-Digit Number 000000000 Not Applicable 777777777 Not Reported 888888888 None 999999999 Unknown', ()),\n",
       " SchemaField('motor_carrier_identification_number_mcid', 'string', 'NULLABLE', 'This data element records the issuing authority and motor carrier identification number if applicable to this vehicle. This data element is the combination of two data elements, MCARR_I1 and MCARR_I2. xxxxxxxxxxx 11-Character Combination of MCARR_I1 followed by MCARR_I2 00000000000 Not Applicable 77777777777 Not Reported 88888888888 None 99999999999 Unknown', ()),\n",
       " SchemaField('gross_vehicle_weight_rating', 'string', 'NULLABLE', 'This data element identifies the gross vehicle weight rating of this vehicle if applicable. 0 Not Applicable 1 10,000 lbs or Less 2 10,001 lbs - 26,000 lbs 3 26,001 lbs or More 8 Not Reported 9 Unknown', ()),\n",
       " SchemaField('vehicle_configuration', 'integer', 'NULLABLE', 'This data element identifies the general configuration of this vehicle if applicable. For more info on the codes, please look at V18 Vehicle Configuration section in the pdf: https://crashstats.nhtsa.dot.gov/Api/Public/ViewPublication/812315', ()),\n",
       " SchemaField('vehicle_configuration_name', 'string', 'NULLABLE', 'This data element describes the general configuration of this vehicle if applicable', ()),\n",
       " SchemaField('cargo_body_type', 'integer', 'NULLABLE', 'This data element identifies the primary cargo carrying capability of this vehicle if applicable. For more info on the codes, please look at V19 Cargo Body Type section in the pdf: https://crashstats.nhtsa.dot.gov/Api/Public/ViewPublication/812315', ()),\n",
       " SchemaField('cargo_body_type_name', 'string', 'NULLABLE', 'This data element describes the primary cargo carrying capability of this vehicle if applicable.', ()),\n",
       " SchemaField('hazardous_material_involvement', 'string', 'NULLABLE', 'This data element identifies whether this vehicle was carrying hazardous materials. 1 No 2 Yes', ()),\n",
       " SchemaField('hazardous_material_placard', 'integer', 'NULLABLE', 'This data element identifies the presence of hazardous materials for this vehicle and whether this vehicle displayed a hazardous materials placard. 0 Not Applicable 1 No 2 Yes 8 Not Reported', ()),\n",
       " SchemaField('hazardous_material_identification_number', 'integer', 'NULLABLE', 'This data element identifies the 4-digit hazardous material identification number for this vehicle. 0000 Not Applicable xxxx Actual 4-Digit Number 8888 Not Reported', ()),\n",
       " SchemaField('hazardous_material_class_number', 'integer', 'NULLABLE', 'This data element identifies the single-digit hazardous material class number for this vehicle. 0 Not Applicable 1-9 Actual Number 88 Not Reported', ()),\n",
       " SchemaField('release_of_hazardous_material_from_the_cargo_compartment', 'string', 'NULLABLE', 'This data element identifies whether any hazardous cargo was released from the cargo tank or compartment of this vehicle. 0 Not Applicable 1 No 2 Yes 8 Not Reported', ()),\n",
       " SchemaField('bus_use', 'string', 'NULLABLE', 'This data element describes the common type of bus service this vehicle was being used as at the time of the crash or the primary use for the bus if not in service at the time of the crash. 00 Not a Bus 01 School Bus 04 Intercity Bus 05 Charter/Tour Bus 06 Transit/Commuter Bus 07 Shuttle Bus 08 Modified for Personal/Private Use 98 Not Reported 99 Unknown', ()),\n",
       " SchemaField('special_use', 'integer', 'NULLABLE', 'This data element identifies any special use associated with this vehicle at the time of the crash. For more info on the codes, please look at V22 Special Use section in the pdf: https://crashstats.nhtsa.dot.gov/Api/Public/ViewPublication/812315', ()),\n",
       " SchemaField('special_use_name', 'string', 'NULLABLE', 'This data element identifies any special use associated with this vehicle at the time of the crash.', ()),\n",
       " SchemaField('emergency_motor_vehicle_use', 'string', 'NULLABLE', 'This data element identifies whether this vehicle was engaged in emergency use. Emergency Use indicates operation of any motor vehicle that is legally authorized by a government authority to respond to emergencies with or without the use of emergency warning equipment, such as a police vehicle, fire truck or ambulance while actually engaged in such response. -- No 0 Not Applicable -- Yes 2 Non-Emergency, Non-Transport 3 Non-Emergency Transport 4 Emergency Operation, Emergency Warning Equipment Not In Use 5 Emergency Operation, Emergency Warning Equipment In Use 6 Emergency Operation, Emergency Warning Equipment In Use Unknown 8 Not Reported 9 Unknown', ()),\n",
       " SchemaField('travel_speed', 'integer', 'NULLABLE', 'This data element records the speed the vehicle was traveling prior to the occurrence of the crash as reported by the investigating officer. 000 Stopped Motor Vehicle in Transport 001-151 Reported Speed Up to 151 mph -- Speed Greater than 96 mph 997 Speed Greater than 151 mph 998 Not Reported 999 Unknown', ()),\n",
       " SchemaField('underride_override', 'integer', 'NULLABLE', 'This data element identifies this vehicle’s involvement in an underride or override during the crash. For more info on the codes, please look at V25 Underride/Override section in the pdf: https://crashstats.nhtsa.dot.gov/Api/Public/ViewPublication/812315', ()),\n",
       " SchemaField('rollover', 'string', 'NULLABLE', 'This data element identifies this vehicle’s involvement in a rollover or overturn during the crash. Rollover is defined as any vehicle rotation of 90 degrees or more about any true longitudinal or lateral axis. Rollover can occur at any time during the crash. 0 No Rollover -- First Event 1 Rollover, Tripped by Object/Vehicle -- Subsequent Event 2 Rollover, Untripped 9 Rollover, Unknown Type', ()),\n",
       " SchemaField('location_of_rollover', 'string', 'NULLABLE', \"This data element identifies the location of the trip point or start of this vehicle's roll. 0 No Rollover 1 On Roadway 2 On Shoulder 3 On Median/Separator 4 In Gore 5 On Roadside 6 Outside of Trafficway 7 In Parking Lane/Zone 9 Unknown\", ()),\n",
       " SchemaField('initial_contact_point', 'integer', 'NULLABLE', 'This data element identifies the area on this vehicle that produced the first instance of injury to non-motorists or occupants of this vehicle, or that resulted in the first instance of damage to other property or to this vehicle. For more info on the codes, please look at V28A Initial Contact Point section in the pdf: https://crashstats.nhtsa.dot.gov/Api/Public/ViewPublication/812315', ()),\n",
       " SchemaField('extent_of_damage', 'string', 'NULLABLE', 'This data element records the amount of damage sustained by this vehicle as indicated in the case materials based on an operational damage scale. 0 No Damage 2 Minor Damage 4 Functional Damage 6 Disabling Damage 8 Not Reported 9 Unknown', ()),\n",
       " SchemaField('vehicle_removal', 'string', 'NULLABLE', 'This data element describes the mode by which this vehicle left the scene of the crash. -- Driven Away -- Towed Away 2 Towed Due to Disabling Damage -- Abandoned/Left Scene 3 Towed Not Due to Disabling Damage -- Not Towed Away -- Abandoned/Left at Scene 5 Not Towed 8 Not Reported 9 Unknown', ()),\n",
       " SchemaField('most_harmful_event', 'integer', 'NULLABLE', 'This data element describes the event that resulted in the most severe injury or, if no injury, the greatest property damage involving this vehicle. For more info on the codes, please look at V32 Most Harmful Event section in the pdf: https://crashstats.nhtsa.dot.gov/Api/Public/ViewPublication/812315', ()),\n",
       " SchemaField('related_factors_vehicle_level_1', 'integer', 'NULLABLE', 'This data element records factors related to this vehicle expressed by the investigating officer. For more info on the codes, please look at V33 Related Factors- Vehicle Level section in the pdf: https://crashstats.nhtsa.dot.gov/Api/Public/ViewPublication/812315', ()),\n",
       " SchemaField('related_factors_vehicle_level_2', 'integer', 'NULLABLE', 'This data element records factors related to this vehicle expressed by the investigating officer. For more info on the codes, please look at V33 Related Factors- Vehicle Level section in the pdf: https://crashstats.nhtsa.dot.gov/Api/Public/ViewPublication/812315', ()),\n",
       " SchemaField('fire_occurrence', 'string', 'NULLABLE', 'This data element identifies whether a fire in any way related to the crash occurred in this vehicle. -- No Fire 0 No or Not Reported -- Fire Occurred in This Vehicle during Crash 1 Yes -- Fire Occurred in This Vehicle and Initiated Fire/Explosion in Another Vehicle', ()),\n",
       " SchemaField('driver_presence', 'string', 'NULLABLE', 'This data element identifies whether a driver was present in this vehicle at the onset of the unstabilized situation. 0 No Driver Present/Not Applicable -- Driver Operated Vehicle 1 Yes -- No Driver -- Driverless (No Driver) -- Driver Left Scene -- Motor Vehicle not In-Transport (Parked/Stopped Off Roadway/ Working Motor Vehicle/In Motion Outside Trafficway, 2008 Only) -- Motor Vehicle not In-Transport (Parked/Stopped Off Roadway/Working/ In Motion Outside Trafficway, 2005-2007) 9 Unknown', ()),\n",
       " SchemaField('drivers_license_state', 'integer', 'NULLABLE', 'This element identifies the state of issue for the license held by this driver. For more info on the codes, please look at D5 Driver’s License State section in the pdf: https://crashstats.nhtsa.dot.gov/Api/Public/ViewPublication/812315', ()),\n",
       " SchemaField('drivers_zip_code', 'integer', 'NULLABLE', 'This data element records the zip code of the driver’s address as listed in the case material. 00000 Not a Resident of U. S. or Territories xxxxx Actual Zip Code, Five Numeric 99997 No Driver Present/Unknown if Driver Present 99999 Unknown', ()),\n",
       " SchemaField('non_cdl_license_status', 'integer', 'NULLABLE', 'This data element identifies the status of the driver’s license at the time of the crash. For more info on the codes, please look at D7B Non-CDL License Status section in the pdf: https://crashstats.nhtsa.dot.gov/Api/Public/ViewPublication/812315', ()),\n",
       " SchemaField('non_cdl_license_type', 'string', 'NULLABLE', 'This data element identifies the type of license held by this driver at the time of the crash. 0 Not Licensed 1 Full Driver License 2 Intermediate Driver License 6 No Driver Present/Unknown if Driver Present 7 Learner’s Permit 8 Temporary License 9 Unknown License Type', ()),\n",
       " SchemaField('commercial_motor_vehicle_license_status', 'integer', 'NULLABLE', 'This data element indicates the status of the driver’s Commercial Driver’s License (CDL) if applicable. For more info on the codes, please look at D8 Commercial Motor Vehicle License Status section in the pdf: https://crashstats.nhtsa.dot.gov/Api/Public/ViewPublication/812315', ()),\n",
       " SchemaField('compliance_with_cdl_endorsements', 'string', 'NULLABLE', 'This data element identifies whether the vehicle driven at the time of the crash required endorsement(s) on a Commercial Driver’s License (CDL) and whether this driver was complying with the CDL endorsements. 0 No Endorsements Required For This Vehicle 1 Endorsement(s) Required, Complied With 2 Endorsement(s) Required, Not Complied With 3 Endorsement(s) Required, Compliance Unknown -- 7 No Driver Present/Unknown if Driver Present -- Not Reported 9 Unknown, if Required', ()),\n",
       " SchemaField('license_compliance_with_class_of_vehicle', 'string', 'NULLABLE', 'This data element identifies the type of license possessed or not possessed by this driver for the class of vehicle being driven at the time of the crash. 0 Not Licensed 1 No License Required for This Class Vehicle 2 No Valid License for This Class Vehicle 3 Valid License for This Class Vehicle 6 No Driver Present/Unknown if Driver Present -- Not Reported 8 Unknown if CDL and/or CDL Endorsement Required for This Vehicle 9 Unknown', ()),\n",
       " SchemaField('compliance_with_license_restrictions', 'integer', 'NULLABLE', 'This data element indicates whether this driver was compliant with restrictions on their license. 0 No Restrictions or Not Applicable 1 Restrictions Complied With 2 Restrictions Not Complied With 3 Restrictions, Compliance Unknown 7 No Driver Present/Unknown if Driver Present -- Not Reported 9 Unknown', ()),\n",
       " SchemaField('driver_height', 'integer', 'NULLABLE', \"This data element identifies this driver's height (in inches). 24-107 Actual Height in Inches 998 No Driver Present/Unknown if Driver Present 999 Unknown\", ()),\n",
       " SchemaField('driver_weight', 'integer', 'NULLABLE', \"This data element identifies this driver's weight (in pounds). 40-700 Actual Weight in Pounds 997 No Driver Present/Unknown if Driver Present 998 Other 999 Unknown\", ()),\n",
       " SchemaField('previous_recorded_crashes', 'integer', 'NULLABLE', 'This data element records any previous crashes for this driver that occurred within five* years of the crash date. 00 None 01-97 Actual Value -- CDL Disqualified 98 Not Reported on Driving Record 99 Unknown 998 No Driver Present/Unknown if Driver Present', ()),\n",
       " SchemaField('previous_recorded_suspensions_and_revocations', 'integer', 'NULLABLE', 'This data element records any previous license suspensions or revocations for this driver that occurred within five* years of the crash date. 00 None 1-97 Actual Value -- CDL Disqualified 99 Unknown 998 No Driver Present/Unknown if Driver Present', ()),\n",
       " SchemaField('previous_dwi_convictions', 'integer', 'NULLABLE', 'This data element records any previous DWI convictions for this driver that occurred within five* years of the crash date. 00 None 01-97 Actual Value -- CDL Disqualified 99 Unknown 998 No Driver Present/Unknown if Driver Present', ()),\n",
       " SchemaField('previous_speeding_convictions', 'integer', 'NULLABLE', 'This data element records any previous speeding convictions for this driver that occurred within five* years of the crash date. 00 None 01-97 Actual Value -- CDL Disqualified 99 Unknown 998 No Driver Present/Unknown if Driver Present', ()),\n",
       " SchemaField('previous_other_moving_violation_convictions', 'integer', 'NULLABLE', 'This data element records any other previous moving violations or convictions for this driver that occurred within five* years of the crash date. 00 None 01-97 Actual Value -- CDL Disqualified 99 Unknown 998 No Driver Present/Unknown if Driver Present', ()),\n",
       " SchemaField('month_of_first_crash_suspension_or_conviction', 'integer', 'NULLABLE', 'This data element records the month of the first crash, suspension, or conviction for this driver that occurred within five* years of the crash date. For more info on the codes, please look at D19A Month of First Crash, Suspension or Conviction section in the pdf: https://crashstats.nhtsa.dot.gov/Api/Public/ViewPublication/812315', ()),\n",
       " SchemaField('year_of_first_crash_suspension_or_conviction', 'integer', 'NULLABLE', 'This data element records the year of the first crash, suspension, or conviction for this driver that occurred within five* years of the crash date. 0000 No Record xxxx Actual Year 9998 No Driver Present/Unknown if Driver Present 9999 Unknown', ()),\n",
       " SchemaField('month_of_last_crash_suspension_or_conviction', 'integer', 'NULLABLE', 'This data element records the month of the last crash, suspension, or conviction for this driver that occurred within five* years of the crash date. For more info on the codes, please look at D20A Month of Last Crash, Suspension or Conviction section in the pdf: https://crashstats.nhtsa.dot.gov/Api/Public/ViewPublication/812315', ()),\n",
       " SchemaField('year_of_last_crash_suspension_or_conviction', 'integer', 'NULLABLE', 'This data element records the year of the last crash, suspension, or conviction for this driver that occurred within five* years of the crash date. 0000 No Record xxxx Actual Year 9998 No Driver Present/Unknown if Driver Present 9999 Unknown', ()),\n",
       " SchemaField('speeding_related', 'string', 'NULLABLE', \"This data element records whether the driver's speed was related to the crash as indicated by law enforcement. 0 No -- Yes 2 Yes, Racing 3 Yes, Exceeded Speed Limit 4 Yes, Too Fast for Conditions 5 Yes, Specifics Unknown 8 No Driver Present/Unknown if Driver Present 9 Unknown\", ()),\n",
       " SchemaField('related_factors_driver_level_1', 'integer', 'NULLABLE', 'This data element records factors related to this driver expressed by the investigating officer. For more info on the codes, please look at D24 Related Factors- Driver Level section in the pdf: https://crashstats.nhtsa.dot.gov/Api/Public/ViewPublication/812315', ()),\n",
       " SchemaField('related_factors_driver_level_2', 'integer', 'NULLABLE', 'This data element records factors related to this driver expressed by the investigating officer. For more info on the codes, please look at D24 Related Factors- Driver Level section in the pdf: https://crashstats.nhtsa.dot.gov/Api/Public/ViewPublication/812315', ()),\n",
       " SchemaField('related_factors_driver_level_3', 'integer', 'NULLABLE', 'This data element records factors related to this driver expressed by the investigating officer. For more info on the codes, please look at D24 Related Factors- Driver Level section in the pdf: https://crashstats.nhtsa.dot.gov/Api/Public/ViewPublication/812315', ()),\n",
       " SchemaField('related_factors_driver_level_4', 'integer', 'NULLABLE', 'This data element records factors related to this driver expressed by the investigating officer. For more info on the codes, please look at D24 Related Factors- Driver Level section in the pdf: https://crashstats.nhtsa.dot.gov/Api/Public/ViewPublication/812315', ()),\n",
       " SchemaField('trafficway_description', 'string', 'NULLABLE', 'This data element identifies the attribute that best describes the trafficway flow just prior to this vehicle’s critical precrash event. -- Non-Trafficway Area 0 Non-Trafficway or Driveway Access 1 Two-Way, Not Divided 2 Two-Way, Divided, Unprotected (Painted > 4 Feet) Median 3 Two-Way, Divided, Positive Median Barrier 4 One-Way Trafficway 5 Two-Way, Not Divided With a Continuous Left-Turn Lane 6 Entrance/Exit Ramp 8 Not Reported 9 Unknown', ()),\n",
       " SchemaField('total_lanes_in_roadway', 'integer', 'NULLABLE', 'This data element identifies the attribute that best describes the number of travel lanes just prior to this vehicle’s critical precrash event. For more info on the codes, please look at PC6 Total Lanes in Roadway section in the pdf: https://crashstats.nhtsa.dot.gov/Api/Public/ViewPublication/812315', ()),\n",
       " SchemaField('speed_limit', 'integer', 'NULLABLE', 'This data element identifies the attribute that best represents the speed limit just prior to this vehicle’s critical precrash event. -- No Statutory Limit/Non-Trafficway Area 0 No Statutory Limit/Non-Trafficway or Driveway Access -- Speed Limit (mph) 5-80 Speed Limit (5 mph Increments) 98 Not Reported 99 Unknown', ()),\n",
       " SchemaField('roadway_alignment', 'string', 'NULLABLE', 'This data element identifies the attribute that best represents the roadway alignment prior to this vehicle’s critical precrash event. -- Non-Trafficway Area 0 Non-Trafficway or Driveway Access 1 Straight 2 Curve Right 3 Curve Left 4 Curve – Unknown Direction 8 Not Reported 9 Unknown', ()),\n",
       " SchemaField('roadway_grade', 'string', 'NULLABLE', 'This data element identifies the attribute that best represents the roadway grade prior to this vehicle’s critical precrash event. -- Non-Trafficway Area 0 Non-Trafficway or Driveway Access 1 Level 2 Grade, Unknown Slope 3 Hillcrest 4 Sag (Bottom) 5 Uphill 6 Downhill 8 Not Reported 9 Unknown', ()),\n",
       " SchemaField('roadway_surface_type', 'string', 'NULLABLE', 'This data element identifies the attribute that best represents the roadway surface type prior to this vehicle’s critical precrash event. -- Non-Trafficway Area 0 Non-Trafficway or Driveway Access 1 Concrete 2 Blacktop, Bituminous, or Asphalt 3 Brick or Block 4 Slag, Gravel or Stone 5 Dirt 7 Other 8 Not Reported 9 Unknown', ()),\n",
       " SchemaField('roadway_surface_condition', 'integer', 'NULLABLE', 'This data element identifies the attribute that best represents the roadway surface condition prior to this vehicle’s critical precrash event. For more info on the codes, please look at PC11 Roadway Surface Condition section in the pdf: https://crashstats.nhtsa.dot.gov/Api/Public/ViewPublication/812315', ()),\n",
       " SchemaField('roadway_surface_condition_name', 'string', 'NULLABLE', 'This data element identifies the attribute that best represents the roadway surface condition prior to this vehicle’s critical precrash event.', ()),\n",
       " SchemaField('traffic_control_device', 'integer', 'NULLABLE', \"This data element identifies the attribute that best describes the traffic controls in the vehicle's environment just prior to this vehicle's critical precrash event. For more info on the codes, please look at PC12 Traffic Control Device section in the pdf: https://crashstats.nhtsa.dot.gov/Api/Public/ViewPublication/812315\", ()),\n",
       " SchemaField('traffic_control_device_functioning', 'string', 'NULLABLE', 'This data element identifies the functionality of the traffic control device recorded for this vehicle in the data element “Traffic Control Device.” 0 No Controls 1 Device Not Functioning 2 Device Functioning – Functioning Improperly 3 Device Functioning Properly 8 Not Reported 9 Unknown', ()),\n",
       " SchemaField('pre_event_movement_prior_to_recognition_of_critical_event', 'integer', 'NULLABLE', \"This data element identifies the attribute that best describes this vehicle's activity prior to the driver's realization of an impending critical event or just prior to impact if the driver took no action or had no time to attempt any evasive maneuvers. For more info on the codes, please look at PC17 Pre-Event Movement (Prior To Recognition of Critical Event) section in the pdf: https://crashstats.nhtsa.dot.gov/Api/Public/ViewPublication/812315\", ()),\n",
       " SchemaField('critical_event_precrash', 'integer', 'NULLABLE', 'This data element identifies the attribute that best describes the critical event which made this crash imminent (i.e., something occurred which made the collision possible). For more info on the codes, please look at PC19 Critical Event- Precrash section in the pdf: https://crashstats.nhtsa.dot.gov/Api/Public/ViewPublication/812315', ()),\n",
       " SchemaField('critical_event_precrash_name', 'string', 'NULLABLE', 'This data element identifies the attribute that best describes the critical event which made this crash imminent (i.e., something occurred which made the collision possible).', ()),\n",
       " SchemaField('attempted_avoidance_maneuver', 'integer', 'NULLABLE', 'This data element identifies the attribute that best describes the movements/actions taken by this driver, within a critical crash envelope, in response to the “Critical Precrash Event.” For more info on the codes, please look at PC20 Attempted Avoidance Maneuver section in the pdf: https://crashstats.nhtsa.dot.gov/Api/Public/ViewPublication/812315', ()),\n",
       " SchemaField('attempted_avoidance_maneuver_name', 'string', 'NULLABLE', 'This data element identifies the attribute that best describes the movements/actions taken by this driver, within a critical crash envelope, in response to the “Critical Precrash Event.”', ()),\n",
       " SchemaField('pre_impact_stability', 'string', 'NULLABLE', 'This data element identifies the attribute that best describes the stability of this vehicle after the “Critical Precrash Event,” but before the impact. -- No Driver Present 0 No Driver Present/Unknown if Driver Present 1 Tracking 2 Skidding Longitudinally – Rotation Less Than 30 Degrees 3 Skidding Laterally – Clockwise Rotation 4 Skidding Laterally – Counterclockwise Rotation 5 Skidding Laterally – Rotation Direction Unknown 7 Other Vehicle Loss-of-Control 9 Precrash Stability Unknown', ()),\n",
       " SchemaField('pre_impact_location', 'integer', 'NULLABLE', 'This data element identifies the attribute that best describes the location of this vehicle after the “Critical Precrash Event,” but before the impact. -- No Driver Present 0 No Driver Present/Unknown if Driver Present 1 Stayed In Original Travel Lane 2 Stayed On Roadway, But Left Original Travel Lane 3 Stayed On Roadway, Not Known if Left Original Travel Lane 4 Departed Roadway 5 Remained Off Roadway 6 Returned to Roadway 7 Entered Roadway 9 Unknown', ()),\n",
       " SchemaField('crash_type', 'integer', 'NULLABLE', 'This data element identifies the attribute that best describes the type of crash this vehicle was involved in based on the “First Harmful Event” and the precrash circumstances. For more info on the codes, please look at PC23 Crash Type section in the pdf: https://crashstats.nhtsa.dot.gov/Api/Public/ViewPublication/812315', ()),\n",
       " SchemaField('crash_type_name', 'string', 'NULLABLE', 'This data element identifies the attribute that best describes the type of crash this vehicle was involved in based on the “First Harmful Event” and the precrash circumstances. For graphic descriptions of possible values see Appendix A: PC23 Crash Type Diagram', ()),\n",
       " SchemaField('fatalities_in_vehicle', 'integer', 'NULLABLE', 'This data element records the number of fatalities that occurred in this vehicle. 01-99 Number of Fatalities that Occurred in the Vehicle.', ()),\n",
       " SchemaField('driver_drinking', 'string', 'NULLABLE', 'This data element records whether the driver was drinking and is derived from data elements in the Vehicle and Person data files. 0 No Drinking 1 Drinking -- Unknown', ()),\n",
       " SchemaField('timestamp_of_crash', 'timestamp', 'NULLABLE', 'This data element records the date and time on which the crash occurred.', ())]"
      ]
     },
     "execution_count": 22,
     "metadata": {},
     "output_type": "execute_result"
    }
   ],
   "source": [
    "accidents.table_schema('vehicle_2015')"
   ]
  },
  {
   "cell_type": "code",
   "execution_count": null,
   "metadata": {
    "_uuid": "a26c148274620fe940c11bfbb0e78d94b47f7138",
    "collapsed": true
   },
   "outputs": [],
   "source": [
    "test = \"\"\"\n",
    "SELECT consecutive_number, registration_state_name, hit_and_run\n",
    "FROM `bigquery-public-data.nhtsa_traffic_fatalities.vehicle_2015`\n",
    "\"\"\"\n",
    "test_table = accidents.query_to_pandas_safe(test,max_gb_scanned=0.01)"
   ]
  },
  {
   "cell_type": "code",
   "execution_count": 25,
   "metadata": {
    "_uuid": "3d534c3b4570aa4a6487c264be305fa41f2c83b2",
    "collapsed": false
   },
   "outputs": [
    {
     "data": {
      "text/plain": [
       "No         47629\n",
       "Yes         1809\n",
       "Unknown       39\n",
       "Name: hit_and_run, dtype: int64"
      ]
     },
     "execution_count": 25,
     "metadata": {},
     "output_type": "execute_result"
    }
   ],
   "source": [
    "test_table.hit_and_run.value_counts()"
   ]
  },
  {
   "cell_type": "code",
   "execution_count": 35,
   "metadata": {
    "_uuid": "8d76395d02c923ed4464e047d933950f05685388",
    "collapsed": true
   },
   "outputs": [],
   "source": [
    "query2 = \"\"\"\n",
    "SELECT states, Count(id) as hit_and_run_counts\n",
    "FROM (\n",
    "    SELECT registration_state_name as states, consecutive_number as id, hit_and_run\n",
    "    FROM `bigquery-public-data.nhtsa_traffic_fatalities.vehicle_2015`\n",
    "    WHERE hit_and_run = 'Yes'\n",
    "    ) as SubQuery\n",
    "GROUP BY states\n",
    "ORDER BY hit_and_run_counts DESC\n",
    "\"\"\"\n",
    "hit_and_run_counts_by_states = accidents.query_to_pandas(query2)"
   ]
  },
  {
   "cell_type": "code",
   "execution_count": 36,
   "metadata": {
    "_uuid": "da41a9b4b0a5fa596a4a8d5ee72a5045638b6ae4",
    "collapsed": false
   },
   "outputs": [
    {
     "data": {
      "text/html": [
       "<div>\n",
       "<style>\n",
       "    .dataframe thead tr:only-child th {\n",
       "        text-align: right;\n",
       "    }\n",
       "\n",
       "    .dataframe thead th {\n",
       "        text-align: left;\n",
       "    }\n",
       "\n",
       "    .dataframe tbody tr th {\n",
       "        vertical-align: top;\n",
       "    }\n",
       "</style>\n",
       "<table border=\"1\" class=\"dataframe\">\n",
       "  <thead>\n",
       "    <tr style=\"text-align: right;\">\n",
       "      <th></th>\n",
       "      <th>states</th>\n",
       "      <th>hit_and_run_counts</th>\n",
       "    </tr>\n",
       "  </thead>\n",
       "  <tbody>\n",
       "    <tr>\n",
       "      <th>0</th>\n",
       "      <td>Unknown</td>\n",
       "      <td>834</td>\n",
       "    </tr>\n",
       "    <tr>\n",
       "      <th>1</th>\n",
       "      <td>California</td>\n",
       "      <td>155</td>\n",
       "    </tr>\n",
       "    <tr>\n",
       "      <th>2</th>\n",
       "      <td>Florida</td>\n",
       "      <td>96</td>\n",
       "    </tr>\n",
       "    <tr>\n",
       "      <th>3</th>\n",
       "      <td>Texas</td>\n",
       "      <td>86</td>\n",
       "    </tr>\n",
       "    <tr>\n",
       "      <th>4</th>\n",
       "      <td>New York</td>\n",
       "      <td>38</td>\n",
       "    </tr>\n",
       "  </tbody>\n",
       "</table>\n",
       "</div>"
      ],
      "text/plain": [
       "       states  hit_and_run_counts\n",
       "0     Unknown                 834\n",
       "1  California                 155\n",
       "2     Florida                  96\n",
       "3       Texas                  86\n",
       "4    New York                  38"
      ]
     },
     "execution_count": 36,
     "metadata": {},
     "output_type": "execute_result"
    }
   ],
   "source": [
    "hit_and_run_counts_by_states.head()"
   ]
  },
  {
   "cell_type": "markdown",
   "metadata": {
    "_cell_guid": "a2313b92-8f03-41e3-a28b-99a0f54397b2",
    "_uuid": "b0f920e6fc8e371f7b4ad10ff7015526552a19d5"
   },
   "source": [
    "Please feel free to ask any questions you have in this notebook or in the [Q&A forums](https://www.kaggle.com/questions-and-answers)! \n",
    "\n",
    "Also, if you want to share or get comments on your kernel, remember you need to make it public first! You can change the visibility of your kernel under the \"Settings\" tab, on the right half of your screen."
   ]
  }
 ],
 "metadata": {
  "anaconda-cloud": {},
  "kernelspec": {
   "display_name": "Python 3",
   "language": "python",
   "name": "python3"
  },
  "language_info": {
   "codemirror_mode": {
    "name": "ipython",
    "version": 3
   },
   "file_extension": ".py",
   "mimetype": "text/x-python",
   "name": "python",
   "nbconvert_exporter": "python",
   "pygments_lexer": "ipython3",
   "version": "3.6.4"
  }
 },
 "nbformat": 4,
 "nbformat_minor": 1
}
