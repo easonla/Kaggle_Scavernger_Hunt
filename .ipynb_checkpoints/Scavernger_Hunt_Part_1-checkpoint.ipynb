{
 "cells": [
  {
   "cell_type": "markdown",
   "metadata": {},
   "source": [
    "This series of Notebooks were fork from the Kaggle Scavernger Hunt - SQL Challenge.\n",
    "I've modified and show my SQL "
   ]
  },
  {
   "cell_type": "code",
   "execution_count": 29,
   "metadata": {
    "_cell_guid": "9a26e7db-812d-4fbb-b457-e09d323af127",
    "_uuid": "ab40ebc98c64c78df9a11d922bbc23573a43aefe",
    "collapsed": false
   },
   "outputs": [
    {
     "data": {
      "text/plain": [
       "['global_air_quality']"
      ]
     },
     "execution_count": 29,
     "metadata": {},
     "output_type": "execute_result"
    }
   ],
   "source": [
    "# import package with helper functions \n",
    "import bq_helper\n",
    "\n",
    "# create a helper object for this dataset\n",
    "open_aq = bq_helper.BigQueryHelper(active_project=\"bigquery-public-data\",\n",
    "                                   dataset_name=\"openaq\")\n",
    "\n",
    "# print all the tables in this dataset (there's only one!)\n",
    "open_aq.list_tables()"
   ]
  },
  {
   "cell_type": "markdown",
   "metadata": {
    "_cell_guid": "cf3f3bd4-ef30-45d1-bdb3-5c8e7d3ec194",
    "_uuid": "0f5207bb8a05b44d1af2e002fde6260fb01baa1d"
   },
   "source": [
    "I'm going to take a peek at the first couple of rows to help me see what sort of data is in this dataset."
   ]
  },
  {
   "cell_type": "code",
   "execution_count": 30,
   "metadata": {
    "_cell_guid": "d85ed84b-58b3-48c1-8ea6-4c89ad254bd8",
    "_uuid": "dad17f046aac83f2c219452e032fd72227ea3e7a",
    "collapsed": false
   },
   "outputs": [
    {
     "data": {
      "text/html": [
       "<div>\n",
       "<style>\n",
       "    .dataframe thead tr:only-child th {\n",
       "        text-align: right;\n",
       "    }\n",
       "\n",
       "    .dataframe thead th {\n",
       "        text-align: left;\n",
       "    }\n",
       "\n",
       "    .dataframe tbody tr th {\n",
       "        vertical-align: top;\n",
       "    }\n",
       "</style>\n",
       "<table border=\"1\" class=\"dataframe\">\n",
       "  <thead>\n",
       "    <tr style=\"text-align: right;\">\n",
       "      <th></th>\n",
       "      <th>location</th>\n",
       "      <th>city</th>\n",
       "      <th>country</th>\n",
       "      <th>pollutant</th>\n",
       "      <th>value</th>\n",
       "      <th>timestamp</th>\n",
       "      <th>unit</th>\n",
       "      <th>source_name</th>\n",
       "      <th>latitude</th>\n",
       "      <th>longitude</th>\n",
       "      <th>averaged_over_in_hours</th>\n",
       "    </tr>\n",
       "  </thead>\n",
       "  <tbody>\n",
       "    <tr>\n",
       "      <th>0</th>\n",
       "      <td>Mobile_Cle Elum</td>\n",
       "      <td>037</td>\n",
       "      <td>US</td>\n",
       "      <td>pm25</td>\n",
       "      <td>0.00</td>\n",
       "      <td>2017-09-26 20:00:00+00:00</td>\n",
       "      <td>µg/m³</td>\n",
       "      <td>AirNow</td>\n",
       "      <td>47.197630</td>\n",
       "      <td>-120.958230</td>\n",
       "      <td>1.0</td>\n",
       "    </tr>\n",
       "    <tr>\n",
       "      <th>1</th>\n",
       "      <td>Mobile_WhiteSalmon</td>\n",
       "      <td>039</td>\n",
       "      <td>US</td>\n",
       "      <td>pm25</td>\n",
       "      <td>0.00</td>\n",
       "      <td>2017-09-26 20:00:00+00:00</td>\n",
       "      <td>µg/m³</td>\n",
       "      <td>AirNow</td>\n",
       "      <td>45.732414</td>\n",
       "      <td>-121.492330</td>\n",
       "      <td>1.0</td>\n",
       "    </tr>\n",
       "    <tr>\n",
       "      <th>2</th>\n",
       "      <td>Mobile_Newport</td>\n",
       "      <td>051</td>\n",
       "      <td>US</td>\n",
       "      <td>pm25</td>\n",
       "      <td>0.00</td>\n",
       "      <td>2017-09-21 18:00:00+00:00</td>\n",
       "      <td>µg/m³</td>\n",
       "      <td>AirNow</td>\n",
       "      <td>48.186485</td>\n",
       "      <td>-117.049160</td>\n",
       "      <td>1.0</td>\n",
       "    </tr>\n",
       "    <tr>\n",
       "      <th>3</th>\n",
       "      <td>FR20047</td>\n",
       "      <td>Ain</td>\n",
       "      <td>FR</td>\n",
       "      <td>no2</td>\n",
       "      <td>45.40</td>\n",
       "      <td>2018-02-13 07:00:00+00:00</td>\n",
       "      <td>µg/m³</td>\n",
       "      <td>EEA France</td>\n",
       "      <td>45.823223</td>\n",
       "      <td>4.953958</td>\n",
       "      <td>1.0</td>\n",
       "    </tr>\n",
       "    <tr>\n",
       "      <th>4</th>\n",
       "      <td>FR20047</td>\n",
       "      <td>Ain</td>\n",
       "      <td>FR</td>\n",
       "      <td>o3</td>\n",
       "      <td>2.13</td>\n",
       "      <td>2018-02-13 07:00:00+00:00</td>\n",
       "      <td>µg/m³</td>\n",
       "      <td>EEA France</td>\n",
       "      <td>45.823223</td>\n",
       "      <td>4.953958</td>\n",
       "      <td>1.0</td>\n",
       "    </tr>\n",
       "  </tbody>\n",
       "</table>\n",
       "</div>"
      ],
      "text/plain": [
       "             location city country pollutant  value                 timestamp  \\\n",
       "0     Mobile_Cle Elum  037      US      pm25   0.00 2017-09-26 20:00:00+00:00   \n",
       "1  Mobile_WhiteSalmon  039      US      pm25   0.00 2017-09-26 20:00:00+00:00   \n",
       "2      Mobile_Newport  051      US      pm25   0.00 2017-09-21 18:00:00+00:00   \n",
       "3             FR20047  Ain      FR       no2  45.40 2018-02-13 07:00:00+00:00   \n",
       "4             FR20047  Ain      FR        o3   2.13 2018-02-13 07:00:00+00:00   \n",
       "\n",
       "    unit source_name   latitude   longitude  averaged_over_in_hours  \n",
       "0  µg/m³      AirNow  47.197630 -120.958230                     1.0  \n",
       "1  µg/m³      AirNow  45.732414 -121.492330                     1.0  \n",
       "2  µg/m³      AirNow  48.186485 -117.049160                     1.0  \n",
       "3  µg/m³  EEA France  45.823223    4.953958                     1.0  \n",
       "4  µg/m³  EEA France  45.823223    4.953958                     1.0  "
      ]
     },
     "execution_count": 30,
     "metadata": {},
     "output_type": "execute_result"
    }
   ],
   "source": [
    "# print the first couple rows of the \"global_air_quality\" dataset\n",
    "open_aq.head(\"global_air_quality\")"
   ]
  },
  {
   "cell_type": "markdown",
   "metadata": {
    "_cell_guid": "c4cf499d-a495-4717-a390-523107b3e1b2",
    "_uuid": "e70b02fc205ca45859a8520c211e11e3f46a3811"
   },
   "source": [
    "Great, everything looks good! Now that I'm set up, I'm going to put together a query. I want to select all the values from the \"city\" column for the rows there the \"country\" column is \"us\" (for \"United States\"). \n",
    "\n",
    "> **What's up with the triple quotation marks (\"\"\")?** These tell Python that everything inside them is a single string, even though we have line breaks in it. The line breaks aren't necessary, but they do make it much easier to read your query."
   ]
  },
  {
   "cell_type": "code",
   "execution_count": 31,
   "metadata": {
    "_cell_guid": "787efd2f-8f1e-4804-982c-4cd86888c56f",
    "_uuid": "42f5bfb36cba82ccf9250a9c71077ce4154b4a32",
    "collapsed": true
   },
   "outputs": [],
   "source": [
    "# query to select all the items from the \"city\" column where the\n",
    "# \"country\" column is \"us\"\n",
    "query = \"\"\"SELECT city\n",
    "            FROM `bigquery-public-data.openaq.global_air_quality`\n",
    "            WHERE country = 'US'\n",
    "        \"\"\""
   ]
  },
  {
   "cell_type": "markdown",
   "metadata": {
    "_cell_guid": "baf936ce-7334-4038-9c6a-d2a8d2d4d8e4",
    "_uuid": "b16b54b3e2d1b478f9179d6e73f0660c6aa973d4"
   },
   "source": [
    "> **Important:**  Note that the argument we pass to FROM is *not* in single or double quotation marks (' or \"). It is in backticks (\\`). If you use quotation marks instead of backticks, you'll get this error when you try to run the query: `Syntax error: Unexpected string literal` \n",
    "\n",
    "Now I can use this query to get information from our open_aq dataset. I'm using the `BigQueryHelper.query_to_pandas_safe()` method here because it won't run a query if it's larger than 1 gigabyte, which helps me avoid accidentally running a very large query. See the [Scavenger Hunt Handbook ](https://www.kaggle.com/rtatman/sql-scavenger-hunt-handbook/)for more details. "
   ]
  },
  {
   "cell_type": "code",
   "execution_count": 32,
   "metadata": {
    "_cell_guid": "b37cf4b8-1d54-456b-9e52-8e139b166a6e",
    "_uuid": "ecde0a65fad06ef5d22d896484d8cbe05f874e12",
    "collapsed": true
   },
   "outputs": [],
   "source": [
    "# the query_to_pandas_safe will only return a result if it's less\n",
    "# than one gigabyte (by default)\n",
    "us_cities = open_aq.query_to_pandas_safe(query)"
   ]
  },
  {
   "cell_type": "markdown",
   "metadata": {
    "_cell_guid": "9f642ae3-1b06-479a-9e31-a0f21423ecaf",
    "_uuid": "5f3ff35c822b8809cf07180d15ad651bcad4eb46"
   },
   "source": [
    "Now I've got a dataframe called us_cities, which I can use like I would any other dataframe:"
   ]
  },
  {
   "cell_type": "code",
   "execution_count": 33,
   "metadata": {
    "_cell_guid": "3bc9736e-9b18-44c2-9444-e0946cad8b79",
    "_uuid": "2d6b6cca96280cd1a4c4568c723fd35edff7fffa",
    "collapsed": false
   },
   "outputs": [
    {
     "data": {
      "text/plain": [
       "Phoenix-Mesa-Scottsdale                     85\n",
       "Houston                                     83\n",
       "Los Angeles-Long Beach-Santa Ana            60\n",
       "New York-Northern New Jersey-Long Island    57\n",
       "Riverside-San Bernardino-Ontario            56\n",
       "Name: city, dtype: int64"
      ]
     },
     "execution_count": 33,
     "metadata": {},
     "output_type": "execute_result"
    }
   ],
   "source": [
    "# What five cities have the most measurements taken there?\n",
    "us_cities.city.value_counts().head()"
   ]
  },
  {
   "cell_type": "markdown",
   "metadata": {
    "_cell_guid": "fda0a223-5fd5-4524-a402-ecaef2905fa0",
    "_kg_hide-output": true,
    "_uuid": "654d2baeecb8757e10d02a63ec6cc63fe2df2339"
   },
   "source": [
    "# Scavenger hunt\n",
    "___\n",
    "\n",
    "Now it's your turn! Here's the questions I would like you to get the data to answer:\n",
    "\n",
    "* Which countries use a unit other than ppm to measure any type of pollution? (Hint: to get rows where the value *isn't* something, use \"!=\")\n",
    "* Which pollutants have a value of exactly 0?\n",
    "\n",
    "In order to answer these questions, you can fork this notebook by hitting the blue \"Fork Notebook\" at the very top of this page (you may have to scroll up).  \"Forking\" something is making a copy of it that you can edit on your own without changing the original."
   ]
  },
  {
   "cell_type": "code",
   "execution_count": 34,
   "metadata": {
    "_cell_guid": "a4f6aab8-ae9b-4123-87e9-94aadf6a757c",
    "_uuid": "c346ce030dd69d682f91756fc9185ae7845066fb",
    "collapsed": false
   },
   "outputs": [
    {
     "data": {
      "text/plain": [
       "['global_air_quality']"
      ]
     },
     "execution_count": 34,
     "metadata": {},
     "output_type": "execute_result"
    }
   ],
   "source": [
    "# Your code goes here :)\n",
    "open_aq.list_tables()"
   ]
  },
  {
   "cell_type": "code",
   "execution_count": 35,
   "metadata": {
    "_uuid": "595f12b49a232436026ba8656de7f135aeb7fdea",
    "collapsed": false
   },
   "outputs": [
    {
     "data": {
      "text/html": [
       "<div>\n",
       "<style>\n",
       "    .dataframe thead tr:only-child th {\n",
       "        text-align: right;\n",
       "    }\n",
       "\n",
       "    .dataframe thead th {\n",
       "        text-align: left;\n",
       "    }\n",
       "\n",
       "    .dataframe tbody tr th {\n",
       "        vertical-align: top;\n",
       "    }\n",
       "</style>\n",
       "<table border=\"1\" class=\"dataframe\">\n",
       "  <thead>\n",
       "    <tr style=\"text-align: right;\">\n",
       "      <th></th>\n",
       "      <th>location</th>\n",
       "      <th>city</th>\n",
       "      <th>country</th>\n",
       "      <th>pollutant</th>\n",
       "      <th>value</th>\n",
       "      <th>timestamp</th>\n",
       "      <th>unit</th>\n",
       "      <th>source_name</th>\n",
       "      <th>latitude</th>\n",
       "      <th>longitude</th>\n",
       "      <th>averaged_over_in_hours</th>\n",
       "    </tr>\n",
       "  </thead>\n",
       "  <tbody>\n",
       "    <tr>\n",
       "      <th>0</th>\n",
       "      <td>Mobile_Cle Elum</td>\n",
       "      <td>037</td>\n",
       "      <td>US</td>\n",
       "      <td>pm25</td>\n",
       "      <td>0.00</td>\n",
       "      <td>2017-09-26 20:00:00+00:00</td>\n",
       "      <td>µg/m³</td>\n",
       "      <td>AirNow</td>\n",
       "      <td>47.197630</td>\n",
       "      <td>-120.958230</td>\n",
       "      <td>1.0</td>\n",
       "    </tr>\n",
       "    <tr>\n",
       "      <th>1</th>\n",
       "      <td>Mobile_WhiteSalmon</td>\n",
       "      <td>039</td>\n",
       "      <td>US</td>\n",
       "      <td>pm25</td>\n",
       "      <td>0.00</td>\n",
       "      <td>2017-09-26 20:00:00+00:00</td>\n",
       "      <td>µg/m³</td>\n",
       "      <td>AirNow</td>\n",
       "      <td>45.732414</td>\n",
       "      <td>-121.492330</td>\n",
       "      <td>1.0</td>\n",
       "    </tr>\n",
       "    <tr>\n",
       "      <th>2</th>\n",
       "      <td>Mobile_Newport</td>\n",
       "      <td>051</td>\n",
       "      <td>US</td>\n",
       "      <td>pm25</td>\n",
       "      <td>0.00</td>\n",
       "      <td>2017-09-21 18:00:00+00:00</td>\n",
       "      <td>µg/m³</td>\n",
       "      <td>AirNow</td>\n",
       "      <td>48.186485</td>\n",
       "      <td>-117.049160</td>\n",
       "      <td>1.0</td>\n",
       "    </tr>\n",
       "    <tr>\n",
       "      <th>3</th>\n",
       "      <td>FR20047</td>\n",
       "      <td>Ain</td>\n",
       "      <td>FR</td>\n",
       "      <td>no2</td>\n",
       "      <td>45.40</td>\n",
       "      <td>2018-02-13 07:00:00+00:00</td>\n",
       "      <td>µg/m³</td>\n",
       "      <td>EEA France</td>\n",
       "      <td>45.823223</td>\n",
       "      <td>4.953958</td>\n",
       "      <td>1.0</td>\n",
       "    </tr>\n",
       "    <tr>\n",
       "      <th>4</th>\n",
       "      <td>FR20047</td>\n",
       "      <td>Ain</td>\n",
       "      <td>FR</td>\n",
       "      <td>o3</td>\n",
       "      <td>2.13</td>\n",
       "      <td>2018-02-13 07:00:00+00:00</td>\n",
       "      <td>µg/m³</td>\n",
       "      <td>EEA France</td>\n",
       "      <td>45.823223</td>\n",
       "      <td>4.953958</td>\n",
       "      <td>1.0</td>\n",
       "    </tr>\n",
       "  </tbody>\n",
       "</table>\n",
       "</div>"
      ],
      "text/plain": [
       "             location city country pollutant  value                 timestamp  \\\n",
       "0     Mobile_Cle Elum  037      US      pm25   0.00 2017-09-26 20:00:00+00:00   \n",
       "1  Mobile_WhiteSalmon  039      US      pm25   0.00 2017-09-26 20:00:00+00:00   \n",
       "2      Mobile_Newport  051      US      pm25   0.00 2017-09-21 18:00:00+00:00   \n",
       "3             FR20047  Ain      FR       no2  45.40 2018-02-13 07:00:00+00:00   \n",
       "4             FR20047  Ain      FR        o3   2.13 2018-02-13 07:00:00+00:00   \n",
       "\n",
       "    unit source_name   latitude   longitude  averaged_over_in_hours  \n",
       "0  µg/m³      AirNow  47.197630 -120.958230                     1.0  \n",
       "1  µg/m³      AirNow  45.732414 -121.492330                     1.0  \n",
       "2  µg/m³      AirNow  48.186485 -117.049160                     1.0  \n",
       "3  µg/m³  EEA France  45.823223    4.953958                     1.0  \n",
       "4  µg/m³  EEA France  45.823223    4.953958                     1.0  "
      ]
     },
     "execution_count": 35,
     "metadata": {},
     "output_type": "execute_result"
    }
   ],
   "source": [
    "open_aq.head('global_air_quality')"
   ]
  },
  {
   "cell_type": "code",
   "execution_count": 36,
   "metadata": {
    "_uuid": "e28c1cac0c42dbd8577f31ea10cde676f0045f1c",
    "collapsed": false
   },
   "outputs": [
    {
     "data": {
      "text/plain": [
       "[SchemaField('location', 'string', 'NULLABLE', 'Location where data was measured', ()),\n",
       " SchemaField('city', 'string', 'NULLABLE', 'City containing location', ()),\n",
       " SchemaField('country', 'string', 'NULLABLE', 'Country containing measurement in 2 letter ISO code', ()),\n",
       " SchemaField('pollutant', 'string', 'NULLABLE', 'Name of the Pollutant being measured. Allowed values: PM25, PM10, SO2, NO2, O3, CO, BC', ()),\n",
       " SchemaField('value', 'float', 'NULLABLE', 'Latest measured value for the pollutant', ()),\n",
       " SchemaField('timestamp', 'timestamp', 'NULLABLE', 'The datetime at which the pollutant was measured, in ISO 8601 format', ()),\n",
       " SchemaField('unit', 'string', 'NULLABLE', 'The unit the value was measured in coded by UCUM Code', ()),\n",
       " SchemaField('source_name', 'string', 'NULLABLE', 'Name of the source of the data', ()),\n",
       " SchemaField('latitude', 'float', 'NULLABLE', 'Latitude in decimal degrees. Precision >3 decimal points.', ()),\n",
       " SchemaField('longitude', 'float', 'NULLABLE', 'Longitude in decimal degrees. Precision >3 decimal points.', ()),\n",
       " SchemaField('averaged_over_in_hours', 'float', 'NULLABLE', 'The number of hours the value was averaged over.', ())]"
      ]
     },
     "execution_count": 36,
     "metadata": {},
     "output_type": "execute_result"
    }
   ],
   "source": [
    "open_aq.table_schema('global_air_quality')"
   ]
  },
  {
   "cell_type": "code",
   "execution_count": 37,
   "metadata": {
    "_uuid": "4270a15aed1643d3be1e6a87b5cebed1b124b408",
    "collapsed": false
   },
   "outputs": [
    {
     "data": {
      "text/html": [
       "<div>\n",
       "<style>\n",
       "    .dataframe thead tr:only-child th {\n",
       "        text-align: right;\n",
       "    }\n",
       "\n",
       "    .dataframe thead th {\n",
       "        text-align: left;\n",
       "    }\n",
       "\n",
       "    .dataframe tbody tr th {\n",
       "        vertical-align: top;\n",
       "    }\n",
       "</style>\n",
       "<table border=\"1\" class=\"dataframe\">\n",
       "  <thead>\n",
       "    <tr style=\"text-align: right;\">\n",
       "      <th></th>\n",
       "      <th>unit</th>\n",
       "    </tr>\n",
       "  </thead>\n",
       "  <tbody>\n",
       "    <tr>\n",
       "      <th>0</th>\n",
       "      <td>µg/m³</td>\n",
       "    </tr>\n",
       "    <tr>\n",
       "      <th>1</th>\n",
       "      <td>µg/m³</td>\n",
       "    </tr>\n",
       "    <tr>\n",
       "      <th>2</th>\n",
       "      <td>µg/m³</td>\n",
       "    </tr>\n",
       "    <tr>\n",
       "      <th>3</th>\n",
       "      <td>µg/m³</td>\n",
       "    </tr>\n",
       "    <tr>\n",
       "      <th>4</th>\n",
       "      <td>µg/m³</td>\n",
       "    </tr>\n",
       "    <tr>\n",
       "      <th>5</th>\n",
       "      <td>µg/m³</td>\n",
       "    </tr>\n",
       "    <tr>\n",
       "      <th>6</th>\n",
       "      <td>µg/m³</td>\n",
       "    </tr>\n",
       "    <tr>\n",
       "      <th>7</th>\n",
       "      <td>µg/m³</td>\n",
       "    </tr>\n",
       "    <tr>\n",
       "      <th>8</th>\n",
       "      <td>µg/m³</td>\n",
       "    </tr>\n",
       "    <tr>\n",
       "      <th>9</th>\n",
       "      <td>µg/m³</td>\n",
       "    </tr>\n",
       "    <tr>\n",
       "      <th>10</th>\n",
       "      <td>µg/m³</td>\n",
       "    </tr>\n",
       "    <tr>\n",
       "      <th>11</th>\n",
       "      <td>µg/m³</td>\n",
       "    </tr>\n",
       "    <tr>\n",
       "      <th>12</th>\n",
       "      <td>µg/m³</td>\n",
       "    </tr>\n",
       "    <tr>\n",
       "      <th>13</th>\n",
       "      <td>µg/m³</td>\n",
       "    </tr>\n",
       "    <tr>\n",
       "      <th>14</th>\n",
       "      <td>µg/m³</td>\n",
       "    </tr>\n",
       "    <tr>\n",
       "      <th>15</th>\n",
       "      <td>µg/m³</td>\n",
       "    </tr>\n",
       "    <tr>\n",
       "      <th>16</th>\n",
       "      <td>µg/m³</td>\n",
       "    </tr>\n",
       "    <tr>\n",
       "      <th>17</th>\n",
       "      <td>ppm</td>\n",
       "    </tr>\n",
       "    <tr>\n",
       "      <th>18</th>\n",
       "      <td>µg/m³</td>\n",
       "    </tr>\n",
       "    <tr>\n",
       "      <th>19</th>\n",
       "      <td>ppm</td>\n",
       "    </tr>\n",
       "  </tbody>\n",
       "</table>\n",
       "</div>"
      ],
      "text/plain": [
       "     unit\n",
       "0   µg/m³\n",
       "1   µg/m³\n",
       "2   µg/m³\n",
       "3   µg/m³\n",
       "4   µg/m³\n",
       "5   µg/m³\n",
       "6   µg/m³\n",
       "7   µg/m³\n",
       "8   µg/m³\n",
       "9   µg/m³\n",
       "10  µg/m³\n",
       "11  µg/m³\n",
       "12  µg/m³\n",
       "13  µg/m³\n",
       "14  µg/m³\n",
       "15  µg/m³\n",
       "16  µg/m³\n",
       "17    ppm\n",
       "18  µg/m³\n",
       "19    ppm"
      ]
     },
     "execution_count": 37,
     "metadata": {},
     "output_type": "execute_result"
    }
   ],
   "source": [
    "open_aq.head(\"global_air_quality\", selected_columns=\"unit\", num_rows=20)"
   ]
  },
  {
   "cell_type": "code",
   "execution_count": 38,
   "metadata": {
    "_uuid": "31f5711b42c42b8158ca769daf8342d011674a97",
    "collapsed": false
   },
   "outputs": [
    {
     "ename": "AttributeError",
     "evalue": "'BigQueryHelper' object has no attribute 'estimate_query_'",
     "output_type": "error",
     "traceback": [
      "\u001b[0;31m---------------------------------------------------------------------------\u001b[0m",
      "\u001b[0;31mAttributeError\u001b[0m                            Traceback (most recent call last)",
      "\u001b[0;32m<ipython-input-38-781f1cf83569>\u001b[0m in \u001b[0;36m<module>\u001b[0;34m()\u001b[0m\n\u001b[1;32m      3\u001b[0m             \u001b[0mWHERE\u001b[0m \u001b[0munit\u001b[0m \u001b[0;34m!=\u001b[0m \u001b[0;34m'ppm'\u001b[0m\u001b[0;34m\u001b[0m\u001b[0m\n\u001b[1;32m      4\u001b[0m         \"\"\"\n\u001b[0;32m----> 5\u001b[0;31m \u001b[0mopen_aq\u001b[0m\u001b[0;34m.\u001b[0m\u001b[0mestimate_query_\u001b[0m\u001b[0;34m(\u001b[0m\u001b[0mquery\u001b[0m\u001b[0;34m)\u001b[0m\u001b[0;34m\u001b[0m\u001b[0m\n\u001b[0m",
      "\u001b[0;31mAttributeError\u001b[0m: 'BigQueryHelper' object has no attribute 'estimate_query_'"
     ]
    }
   ],
   "source": [
    "query = \"\"\"SELECT country\n",
    "            FROM `bigquery-public-data.openaq.global_air_quality`\n",
    "            WHERE unit != 'ppm'\n",
    "        \"\"\"\n",
    "open_aq.estimate_query_(query)"
   ]
  },
  {
   "cell_type": "code",
   "execution_count": null,
   "metadata": {
    "_uuid": "73a1ae66e8a9e2ca7ee8b1865300a6876d6a955e",
    "collapsed": true
   },
   "outputs": [],
   "source": [
    "countris_not_use_ppm = open_aq.query_to_pandas(query)\n",
    "countris_not_use_ppm.head()"
   ]
  },
  {
   "cell_type": "code",
   "execution_count": null,
   "metadata": {
    "_uuid": "718327d4600dfd3ac9551fc0184babf56549efd0",
    "collapsed": true
   },
   "outputs": [],
   "source": [
    "countris_not_use_ppm = countris_not_use_ppm.drop_duplicates()"
   ]
  },
  {
   "cell_type": "code",
   "execution_count": null,
   "metadata": {
    "_uuid": "942d38796767d8ac3a1e677b6898a68b15af42f4",
    "collapsed": true
   },
   "outputs": [],
   "source": [
    "countris_not_use_ppm.head()"
   ]
  },
  {
   "cell_type": "code",
   "execution_count": null,
   "metadata": {
    "_uuid": "2d4968ca20663b0dd9b4aacec030006ec54b9c10",
    "collapsed": true
   },
   "outputs": [],
   "source": [
    "query2 = \"\"\"\n",
    "SELECT pollutant\n",
    "FROM `bigquery-public-data.openaq.global_air_quality`\n",
    "WHERE value = 0\n",
    "\"\"\"\n",
    "pullutants_with_zero_value = open_aq.query_to_pandas(query2)"
   ]
  },
  {
   "cell_type": "code",
   "execution_count": null,
   "metadata": {
    "_uuid": "c783fec32c59f070c1b17b6b09b9d8591deffa41",
    "collapsed": true
   },
   "outputs": [],
   "source": [
    "pullutants_with_zero_value.describe()"
   ]
  },
  {
   "cell_type": "code",
   "execution_count": null,
   "metadata": {
    "_uuid": "ebdfd435c9c1ac8f42a4029891e57d82218f2abd",
    "collapsed": true
   },
   "outputs": [],
   "source": [
    "pullutants_with_zero_value.pollutant.value_counts()"
   ]
  },
  {
   "cell_type": "markdown",
   "metadata": {
    "_cell_guid": "a2313b92-8f03-41e3-a28b-99a0f54397b2",
    "_uuid": "b0f920e6fc8e371f7b4ad10ff7015526552a19d5"
   },
   "source": [
    "Please feel free to ask any questions you have in this notebook or in the [Q&A forums](https://www.kaggle.com/questions-and-answers)! \n",
    "\n",
    "Also, if you want to share or get comments on your kernel, remember you need to make it public first! You can change the visibility of your kernel under the \"Settings\" tab, on the right half of your screen."
   ]
  }
 ],
 "metadata": {
  "anaconda-cloud": {},
  "kernelspec": {
   "display_name": "Python 3",
   "language": "python",
   "name": "python3"
  },
  "language_info": {
   "codemirror_mode": {
    "name": "ipython",
    "version": 3
   },
   "file_extension": ".py",
   "mimetype": "text/x-python",
   "name": "python",
   "nbconvert_exporter": "python",
   "pygments_lexer": "ipython3",
   "version": "3.6.4"
  }
 },
 "nbformat": 4,
 "nbformat_minor": 1
}
